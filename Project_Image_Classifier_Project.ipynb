{
 "cells": [
  {
   "cell_type": "markdown",
   "metadata": {
    "colab_type": "text",
    "id": "y00b5TQZnqs_"
   },
   "source": [
    "# Your First AI application\n",
    "\n",
    "Going forward, AI algorithms will be incorporated into more and more everyday applications. For example, you might want to include an image classifier in a smart phone app. To do this, you'd use a deep learning model trained on hundreds of thousands of images as part of the overall application architecture. A large part of software development in the future will be using these types of models as common parts of applications. \n",
    "\n",
    "In this project, you'll train an image classifier to recognize different species of flowers. You can imagine using something like this in a phone app that tells you the name of the flower your camera is looking at. In practice you'd train this classifier, then export it for use in your application. We'll be using [this dataset](http://www.robots.ox.ac.uk/~vgg/data/flowers/102/index.html) from Oxford of 102 flower categories, you can see a few examples below. \n",
    "\n",
    "<img src='assets/Flowers.png' width=500px>\n",
    "\n",
    "The project is broken down into multiple steps:\n",
    "\n",
    "* Load the image dataset and create a pipeline.\n",
    "* Build and Train an image classifier on this dataset.\n",
    "* Use your trained model to perform inference on flower images.\n",
    "\n",
    "We'll lead you through each part which you'll implement in Python.\n",
    "\n",
    "When you've completed this project, you'll have an application that can be trained on any set of labeled images. Here your network will be learning about flowers and end up as a command line application. But, what you do with your new skills depends on your imagination and effort in building a dataset. For example, imagine an app where you take a picture of a car, it tells you what the make and model is, then looks up information about it. Go build your own dataset and make something new."
   ]
  },
  {
   "cell_type": "markdown",
   "metadata": {
    "colab_type": "text",
    "id": "kKnPjnLAftRV"
   },
   "source": [
    "## Import Resources"
   ]
  },
  {
   "cell_type": "code",
   "execution_count": 1,
   "metadata": {
    "colab": {},
    "colab_type": "code",
    "id": "2dCk6873paNW"
   },
   "outputs": [
    {
     "name": "stdout",
     "output_type": "stream",
     "text": [
      "Requirement already satisfied: tensorflow-datasets in /opt/conda/lib/python3.7/site-packages (1.2.0)\n",
      "Requirement already satisfied: absl-py in /opt/conda/lib/python3.7/site-packages (from tensorflow-datasets) (0.8.1)\n",
      "Requirement already satisfied: six in /opt/conda/lib/python3.7/site-packages (from tensorflow-datasets) (1.12.0)\n",
      "Requirement already satisfied: tensorflow-metadata in /opt/conda/lib/python3.7/site-packages (from tensorflow-datasets) (0.14.0)\n",
      "Requirement already satisfied: termcolor in /opt/conda/lib/python3.7/site-packages (from tensorflow-datasets) (1.1.0)\n",
      "Requirement already satisfied: attrs in /opt/conda/lib/python3.7/site-packages (from tensorflow-datasets) (19.3.0)\n",
      "Requirement already satisfied: requests>=2.19.0 in /opt/conda/lib/python3.7/site-packages (from tensorflow-datasets) (2.22.0)\n",
      "Requirement already satisfied: promise in /opt/conda/lib/python3.7/site-packages (from tensorflow-datasets) (2.2.1)\n",
      "Requirement already satisfied: tqdm in /opt/conda/lib/python3.7/site-packages (from tensorflow-datasets) (4.36.1)\n",
      "Requirement already satisfied: wrapt in /opt/conda/lib/python3.7/site-packages (from tensorflow-datasets) (1.11.2)\n",
      "Requirement already satisfied: psutil in /opt/conda/lib/python3.7/site-packages (from tensorflow-datasets) (5.6.7)\n",
      "Requirement already satisfied: dill in /opt/conda/lib/python3.7/site-packages (from tensorflow-datasets) (0.3.1.1)\n",
      "Requirement already satisfied: protobuf>=3.6.1 in /opt/conda/lib/python3.7/site-packages (from tensorflow-datasets) (3.11.2)\n",
      "Requirement already satisfied: future in /opt/conda/lib/python3.7/site-packages (from tensorflow-datasets) (0.18.2)\n",
      "Requirement already satisfied: numpy in /opt/conda/lib/python3.7/site-packages (from tensorflow-datasets) (1.17.4)\n",
      "Requirement already satisfied: googleapis-common-protos in /opt/conda/lib/python3.7/site-packages (from tensorflow-metadata->tensorflow-datasets) (1.6.0)\n",
      "Requirement already satisfied: idna<2.9,>=2.5 in /opt/conda/lib/python3.7/site-packages (from requests>=2.19.0->tensorflow-datasets) (2.8)\n",
      "Requirement already satisfied: certifi>=2017.4.17 in /opt/conda/lib/python3.7/site-packages (from requests>=2.19.0->tensorflow-datasets) (2019.11.28)\n",
      "Requirement already satisfied: urllib3!=1.25.0,!=1.25.1,<1.26,>=1.21.1 in /opt/conda/lib/python3.7/site-packages (from requests>=2.19.0->tensorflow-datasets) (1.24.2)\n",
      "Requirement already satisfied: chardet<3.1.0,>=3.0.2 in /opt/conda/lib/python3.7/site-packages (from requests>=2.19.0->tensorflow-datasets) (3.0.4)\n",
      "Requirement already satisfied: setuptools in /opt/conda/lib/python3.7/site-packages (from protobuf>=3.6.1->tensorflow-datasets) (41.4.0)\n",
      "Note: you may need to restart the kernel to use updated packages.\n",
      "Collecting tfds-nightly\n",
      "\u001b[?25l  Downloading https://files.pythonhosted.org/packages/f0/d1/0bacdf3005c01c8650adef86306056d86a26baf977700ba04c22d3749613/tfds_nightly-4.3.0.dev202107090108-py3-none-any.whl (3.9MB)\n",
      "\u001b[K     |████████████████████████████████| 4.0MB 5.3MB/s eta 0:00:01\n",
      "\u001b[?25hRequirement already satisfied: future in /opt/conda/lib/python3.7/site-packages (from tfds-nightly) (0.18.2)\n",
      "Requirement already satisfied: termcolor in /opt/conda/lib/python3.7/site-packages (from tfds-nightly) (1.1.0)\n",
      "Requirement already satisfied: numpy in /opt/conda/lib/python3.7/site-packages (from tfds-nightly) (1.17.4)\n",
      "Collecting importlib-resources; python_version < \"3.9\"\n",
      "  Downloading https://files.pythonhosted.org/packages/c3/8d/cb49c07dd01e797e76e86f33c3472ebd861216b57296095f5c17be9b79e8/importlib_resources-5.2.0-py3-none-any.whl\n",
      "Requirement already satisfied: promise in /opt/conda/lib/python3.7/site-packages (from tfds-nightly) (2.2.1)\n",
      "Requirement already satisfied: tensorflow-metadata in /opt/conda/lib/python3.7/site-packages (from tfds-nightly) (0.14.0)\n",
      "Requirement already satisfied: tqdm in /opt/conda/lib/python3.7/site-packages (from tfds-nightly) (4.36.1)\n",
      "Requirement already satisfied: dill in /opt/conda/lib/python3.7/site-packages (from tfds-nightly) (0.3.1.1)\n",
      "Collecting protobuf>=3.12.2\n",
      "\u001b[?25l  Downloading https://files.pythonhosted.org/packages/4c/53/ddcef00219f2a3c863b24288e24a20c3070bd086a1e77706f22994a7f6db/protobuf-3.17.3-cp37-cp37m-manylinux_2_5_x86_64.manylinux1_x86_64.whl (1.0MB)\n",
      "\u001b[K     |████████████████████████████████| 1.0MB 5.9MB/s eta 0:00:01\n",
      "\u001b[?25hRequirement already satisfied: absl-py in /opt/conda/lib/python3.7/site-packages (from tfds-nightly) (0.8.1)\n",
      "Collecting typing-extensions; python_version < \"3.8\"\n",
      "  Downloading https://files.pythonhosted.org/packages/2e/35/6c4fff5ab443b57116cb1aad46421fb719bed2825664e8fe77d66d99bcbc/typing_extensions-3.10.0.0-py3-none-any.whl\n",
      "Requirement already satisfied: requests>=2.19.0 in /opt/conda/lib/python3.7/site-packages (from tfds-nightly) (2.22.0)\n",
      "Requirement already satisfied: attrs>=18.1.0 in /opt/conda/lib/python3.7/site-packages (from tfds-nightly) (19.3.0)\n",
      "Requirement already satisfied: six in /opt/conda/lib/python3.7/site-packages (from tfds-nightly) (1.12.0)\n",
      "Collecting zipp>=3.1.0; python_version < \"3.10\"\n",
      "  Downloading https://files.pythonhosted.org/packages/92/d9/89f433969fb8dc5b9cbdd4b4deb587720ec1aeb59a020cf15002b9593eef/zipp-3.5.0-py3-none-any.whl\n",
      "Requirement already satisfied: googleapis-common-protos in /opt/conda/lib/python3.7/site-packages (from tensorflow-metadata->tfds-nightly) (1.6.0)\n",
      "Requirement already satisfied: urllib3!=1.25.0,!=1.25.1,<1.26,>=1.21.1 in /opt/conda/lib/python3.7/site-packages (from requests>=2.19.0->tfds-nightly) (1.24.2)\n",
      "Requirement already satisfied: certifi>=2017.4.17 in /opt/conda/lib/python3.7/site-packages (from requests>=2.19.0->tfds-nightly) (2019.11.28)\n",
      "Requirement already satisfied: chardet<3.1.0,>=3.0.2 in /opt/conda/lib/python3.7/site-packages (from requests>=2.19.0->tfds-nightly) (3.0.4)\n",
      "Requirement already satisfied: idna<2.9,>=2.5 in /opt/conda/lib/python3.7/site-packages (from requests>=2.19.0->tfds-nightly) (2.8)\n",
      "Installing collected packages: zipp, importlib-resources, protobuf, typing-extensions, tfds-nightly\n",
      "\u001b[33m  WARNING: The script tfds is installed in '/root/.local/bin' which is not on PATH.\n",
      "  Consider adding this directory to PATH or, if you prefer to suppress this warning, use --no-warn-script-location.\u001b[0m\n",
      "Successfully installed importlib-resources-5.2.0 protobuf-3.17.3 tfds-nightly-4.3.0.dev202107090108 typing-extensions-3.10.0.0 zipp-3.5.0\n",
      "Note: you may need to restart the kernel to use updated packages.\n",
      "Collecting tensorflow\n",
      "\u001b[?25l  Downloading https://files.pythonhosted.org/packages/aa/fd/993aa1333eb54d9f000863fe8ec61e41d12eb833dea51484c76c038718b5/tensorflow-2.5.0-cp37-cp37m-manylinux2010_x86_64.whl (454.3MB)\n",
      "\u001b[K     |██████████▎                     | 145.3MB 8.4MB/s eta 0:00:37   |                                | 296kB 4.9MB/s eta 0:01:33     |                                | 921kB 4.9MB/s eta 0:01:33     |                                | 1.6MB 4.9MB/s eta 0:01:33     |▏                               | 2.2MB 4.9MB/s eta 0:01:33     |▍                               | 4.7MB 4.9MB/s eta 0:01:32     |▍                               | 5.4MB 4.9MB/s eta 0:01:32     |▌                               | 6.7MB 4.9MB/s eta 0:01:32     |▋                               | 9.1MB 4.9MB/s eta 0:01:31     |▊                               | 10.3MB 4.9MB/s eta 0:01:31     |▊                               | 10.9MB 4.9MB/s eta 0:01:31     |▉                               | 11.6MB 12.8MB/s eta 0:00:35     |▉                               | 12.2MB 12.8MB/s eta 0:00:35     |█                               | 12.8MB 12.8MB/s eta 0:00:35     |█                               | 13.4MB 12.8MB/s eta 0:00:35     |█                               | 14.0MB 12.8MB/s eta 0:00:35     |█▏                              | 15.9MB 12.8MB/s eta 0:00:35     |█▏                              | 16.5MB 12.8MB/s eta 0:00:35     |█▎                              | 18.5MB 12.8MB/s eta 0:00:34     |█▍                              | 19.7MB 12.8MB/s eta 0:00:34     |█▍                              | 20.3MB 12.8MB/s eta 0:00:34     |█▌                              | 20.9MB 12.8MB/s eta 0:00:34     |█▌                              | 21.6MB 12.8MB/s eta 0:00:34     |█▋                              | 22.9MB 13.5MB/s eta 0:00:32     |█▊                              | 24.8MB 13.5MB/s eta 0:00:32     |█▉                              | 26.0MB 13.5MB/s eta 0:00:32     |█▉                              | 26.7MB 13.5MB/s eta 0:00:32     |██                              | 27.3MB 13.5MB/s eta 0:00:32     |██                              | 29.8MB 13.5MB/s eta 0:00:32     |██▏                             | 30.4MB 13.5MB/s eta 0:00:32     |██▏                             | 31.0MB 13.5MB/s eta 0:00:32     |██▎                             | 32.3MB 13.5MB/s eta 0:00:32     |██▍                             | 33.5MB 13.5MB/s eta 0:00:32     |██▍                             | 34.2MB 14.0MB/s eta 0:00:30     |██▊                             | 38.5MB 14.0MB/s eta 0:00:30     |██▊                             | 39.1MB 14.0MB/s eta 0:00:30     |██▉                             | 41.0MB 14.0MB/s eta 0:00:30     |███                             | 44.1MB 14.0MB/s eta 0:00:30     |███▎                            | 46.1MB 11.1MB/s eta 0:00:37     |███▎                            | 46.7MB 11.1MB/s eta 0:00:37     |███▍                            | 47.3MB 11.1MB/s eta 0:00:37     |███▍                            | 47.9MB 11.1MB/s eta 0:00:37     |███▍                            | 48.6MB 11.1MB/s eta 0:00:37     |███▌                            | 49.3MB 11.1MB/s eta 0:00:37     |███▊                            | 52.5MB 11.1MB/s eta 0:00:37     |███▊                            | 53.1MB 11.1MB/s eta 0:00:37     |███▉                            | 53.7MB 11.1MB/s eta 0:00:37     |███▉                            | 54.3MB 11.1MB/s eta 0:00:36     |████                            | 55.6MB 11.1MB/s eta 0:00:36     |████                            | 56.7MB 12.8MB/s eta 0:00:31     |████                            | 57.3MB 12.8MB/s eta 0:00:31     |████▏                           | 58.5MB 12.8MB/s eta 0:00:31     |████▏                           | 59.6MB 12.8MB/s eta 0:00:31     |████▎                           | 61.5MB 12.8MB/s eta 0:00:31     |████▍                           | 62.7MB 12.8MB/s eta 0:00:31     |████▌                           | 63.9MB 12.8MB/s eta 0:00:31     |████▌                           | 64.4MB 12.8MB/s eta 0:00:31     |████▊                           | 67.4MB 9.3MB/s eta 0:00:42     |████▉                           | 68.0MB 9.3MB/s eta 0:00:42     |████▉                           | 69.2MB 9.3MB/s eta 0:00:42     |█████                           | 69.7MB 9.3MB/s eta 0:00:42     |█████                           | 70.3MB 9.3MB/s eta 0:00:42     |█████                           | 70.9MB 9.3MB/s eta 0:00:42     |█████                           | 72.0MB 9.3MB/s eta 0:00:42     |█████▏                          | 72.6MB 9.3MB/s eta 0:00:42     |█████▏                          | 73.2MB 9.3MB/s eta 0:00:42     |█████▎                          | 74.3MB 9.3MB/s eta 0:00:41     |█████▎                          | 74.8MB 9.3MB/s eta 0:00:41     |█████▍                          | 75.9MB 9.3MB/s eta 0:00:41     |█████▌                          | 78.0MB 13.6MB/s eta 0:00:28     |█████▌                          | 78.6MB 13.6MB/s eta 0:00:28     |█████▋                          | 79.1MB 13.6MB/s eta 0:00:28     |█████▋                          | 79.7MB 13.6MB/s eta 0:00:28     |█████▋                          | 80.2MB 13.6MB/s eta 0:00:28     |█████▊                          | 81.3MB 13.6MB/s eta 0:00:28     |█████▊                          | 81.9MB 13.6MB/s eta 0:00:28     |█████▉                          | 82.4MB 13.6MB/s eta 0:00:28     |█████▉                          | 83.4MB 13.6MB/s eta 0:00:28     |██████                          | 86.4MB 13.6MB/s eta 0:00:28     |██████▏                         | 87.0MB 13.6MB/s eta 0:00:28     |██████▏                         | 88.2MB 10.0MB/s eta 0:00:37     |██████▎                         | 88.8MB 10.0MB/s eta 0:00:37     |██████▌                         | 92.2MB 10.0MB/s eta 0:00:37     |██████▋                         | 93.3MB 10.0MB/s eta 0:00:37     |██████▋                         | 93.8MB 10.0MB/s eta 0:00:36     |███████                         | 100.0MB 8.0MB/s eta 0:00:45     |███████▎                        | 102.9MB 8.0MB/s eta 0:00:45     |███████▍                        | 104.6MB 8.0MB/s eta 0:00:44     |███████▍                        | 105.2MB 8.0MB/s eta 0:00:44     |███████▌                        | 106.4MB 8.0MB/s eta 0:00:44     |███████▋                        | 108.1MB 8.6MB/s eta 0:00:41     |███████▊                        | 109.7MB 8.6MB/s eta 0:00:41     |███████▉                        | 111.4MB 8.6MB/s eta 0:00:41     |████████                        | 112.0MB 8.6MB/s eta 0:00:41     |████████                        | 112.5MB 8.6MB/s eta 0:00:40     |████████                        | 113.0MB 8.6MB/s eta 0:00:40     |████████                        | 113.6MB 8.6MB/s eta 0:00:40     |████████                        | 114.7MB 8.6MB/s eta 0:00:40     |████████▎                       | 117.0MB 8.6MB/s eta 0:00:40     |████████▍                       | 119.0MB 4.7MB/s eta 0:01:12     |████████▌                       | 121.4MB 4.7MB/s eta 0:01:12     |████████▋                       | 121.9MB 4.7MB/s eta 0:01:12     |████████▋                       | 122.5MB 4.7MB/s eta 0:01:12     |████████▊                       | 123.5MB 4.7MB/s eta 0:01:11     |████████▉                       | 125.2MB 4.7MB/s eta 0:01:11     |████████▉                       | 125.7MB 4.7MB/s eta 0:01:11     |█████████                       | 126.3MB 4.7MB/s eta 0:01:11     |█████████                       | 127.3MB 4.7MB/s eta 0:01:11     |█████████▏                      | 129.5MB 7.8MB/s eta 0:00:42     |█████████▏                      | 130.5MB 7.8MB/s eta 0:00:42     |█████████▎                      | 131.1MB 7.8MB/s eta 0:00:42     |█████████▎                      | 131.8MB 7.8MB/s eta 0:00:42     |█████████▍                      | 133.1MB 7.8MB/s eta 0:00:42     |█████████▍                      | 133.6MB 7.8MB/s eta 0:00:42     |█████████▌                      | 135.2MB 7.8MB/s eta 0:00:41     |█████████▊                      | 137.9MB 8.4MB/s eta 0:00:38     |█████████▊                      | 138.4MB 8.4MB/s eta 0:00:38     |█████████▉                      | 138.9MB 8.4MB/s eta 0:00:38     |█████████▉                      | 139.5MB 8.4MB/s eta 0:00:38     |██████████                      | 142.5MB 8.4MB/s eta 0:00:38     |██████████                      | 143.0MB 8.4MB/s eta 0:00:38     |██████████▏                     | 144.2MB 8.4MB/s eta 0:00:37     |██████████▏                     | 144.7MB 8.4MB/s eta 0:00:37\u001b[K     |███████████████████             | 270.7MB 10.5MB/s eta 0:00:18    |██████████▎                     | 146.4MB 7.1MB/s eta 0:00:44     |██████████▍                     | 146.9MB 7.1MB/s eta 0:00:44     |██████████▍                     | 148.0MB 7.1MB/s eta 0:00:43     |██████████▌                     | 149.5MB 7.1MB/s eta 0:00:43     |██████████▊                     | 151.7MB 7.1MB/s eta 0:00:43     |██████████▊                     | 152.7MB 7.1MB/s eta 0:00:43     |██████████▉                     | 153.2MB 7.1MB/s eta 0:00:43     |██████████▉                     | 153.8MB 7.1MB/s eta 0:00:43     |██████████▉                     | 154.3MB 7.1MB/s eta 0:00:43     |███████████                     | 154.9MB 7.1MB/s eta 0:00:42     |███████████                     | 155.5MB 14.0MB/s eta 0:00:22     |███████████                     | 157.0MB 14.0MB/s eta 0:00:22     |███████████                     | 157.6MB 14.0MB/s eta 0:00:22     |███████████▏                    | 158.7MB 14.0MB/s eta 0:00:22     |███████████▏                    | 159.2MB 14.0MB/s eta 0:00:22     |███████████▎                    | 160.3MB 14.0MB/s eta 0:00:21     |███████████▍                    | 161.4MB 14.0MB/s eta 0:00:21     |███████████▌                    | 163.0MB 14.0MB/s eta 0:00:21     |███████████▌                    | 163.6MB 14.0MB/s eta 0:00:21     |███████████▋                    | 164.1MB 14.0MB/s eta 0:00:21     |███████████▋                    | 164.7MB 14.0MB/s eta 0:00:21     |███████████▋                    | 165.2MB 13.6MB/s eta 0:00:22     |███████████▊                    | 165.7MB 13.6MB/s eta 0:00:22     |███████████▊                    | 166.3MB 13.6MB/s eta 0:00:22     |███████████▉                    | 167.9MB 13.6MB/s eta 0:00:22     |███████████▉                    | 168.4MB 13.6MB/s eta 0:00:22     |████████████                    | 169.5MB 13.6MB/s eta 0:00:21     |████████████                    | 170.1MB 13.6MB/s eta 0:00:21     |████████████                    | 171.7MB 13.6MB/s eta 0:00:21     |████████████▏                   | 172.7MB 13.6MB/s eta 0:00:21     |████████████▏                   | 173.3MB 13.6MB/s eta 0:00:21     |████████████▎                   | 174.4MB 13.6MB/s eta 0:00:21     |████████████▎                   | 175.0MB 8.7MB/s eta 0:00:33     |████████████▍                   | 175.5MB 8.7MB/s eta 0:00:33     |████████████▌                   | 177.1MB 8.7MB/s eta 0:00:33     |████████████▌                   | 177.6MB 8.7MB/s eta 0:00:32     |████████████▊                   | 180.5MB 8.7MB/s eta 0:00:32     |████████████▊                   | 181.0MB 8.7MB/s eta 0:00:32     |████████████▉                   | 181.9MB 8.7MB/s eta 0:00:32     |████████████▉                   | 182.3MB 8.7MB/s eta 0:00:32     |█████████████                   | 184.5MB 9.9MB/s eta 0:00:28     |█████████████▏                  | 187.2MB 9.9MB/s eta 0:00:28     |█████████████▎                  | 187.8MB 9.9MB/s eta 0:00:27     |█████████████▎                  | 188.3MB 9.9MB/s eta 0:00:27     |█████████████▎                  | 188.8MB 9.9MB/s eta 0:00:27     |█████████████▍                  | 190.0MB 9.9MB/s eta 0:00:27     |█████████████▍                  | 190.5MB 9.9MB/s eta 0:00:27     |█████████████▌                  | 191.5MB 9.9MB/s eta 0:00:27     |█████████████▋                  | 192.7MB 9.9MB/s eta 0:00:27     |█████████████▊                  | 194.9MB 8.9MB/s eta 0:00:30     |██████████████                  | 197.7MB 8.9MB/s eta 0:00:29     |██████████████                  | 198.1MB 8.9MB/s eta 0:00:29     |██████████████                  | 200.1MB 8.9MB/s eta 0:00:29     |██████████████▏                 | 201.1MB 8.9MB/s eta 0:00:29     |██████████████▎                 | 202.2MB 8.9MB/s eta 0:00:29     |██████████████▎                 | 203.2MB 8.9MB/s eta 0:00:29     |██████████████▍                 | 204.1MB 12.2MB/s eta 0:00:21     |██████████████▌                 | 205.1MB 12.2MB/s eta 0:00:21     |██████████████▌                 | 205.6MB 12.2MB/s eta 0:00:21     |██████████████▋                 | 207.7MB 12.2MB/s eta 0:00:21     |██████████████▊                 | 208.3MB 12.2MB/s eta 0:00:21     |██████████████▊                 | 208.8MB 12.2MB/s eta 0:00:21     |██████████████▊                 | 209.3MB 12.2MB/s eta 0:00:21     |██████████████▉                 | 210.4MB 12.2MB/s eta 0:00:21     |███████████████                 | 212.2MB 12.2MB/s eta 0:00:20     |███████████████                 | 213.2MB 13.5MB/s eta 0:00:18     |███████████████▏                | 215.2MB 13.5MB/s eta 0:00:18     |███████████████▏                | 215.7MB 13.5MB/s eta 0:00:18     |███████████████▎                | 216.2MB 13.5MB/s eta 0:00:18     |███████████████▎                | 216.7MB 13.5MB/s eta 0:00:18     |███████████████▍                | 217.8MB 13.5MB/s eta 0:00:18     |███████████████▍                | 218.2MB 13.5MB/s eta 0:00:18     |███████████████▍                | 218.7MB 13.5MB/s eta 0:00:18     |███████████████▌                | 219.7MB 13.5MB/s eta 0:00:18     |███████████████▋                | 221.8MB 13.7MB/s eta 0:00:17     |███████████████▊                | 223.4MB 13.7MB/s eta 0:00:17     |███████████████▉                | 224.4MB 13.7MB/s eta 0:00:17     |███████████████▉                | 224.9MB 13.7MB/s eta 0:00:17     |███████████████▉                | 225.5MB 13.7MB/s eta 0:00:17     |████████████████                | 227.6MB 13.7MB/s eta 0:00:17     |████████████████                | 228.2MB 13.7MB/s eta 0:00:17     |████████████████▏               | 230.2MB 13.7MB/s eta 0:00:17     |████████████████▎               | 231.3MB 8.7MB/s eta 0:00:26     |████████████████▍               | 233.0MB 8.7MB/s eta 0:00:26     |████████████████▌               | 233.6MB 8.7MB/s eta 0:00:26     |████████████████▌               | 234.2MB 8.7MB/s eta 0:00:26     |████████████████▌               | 234.7MB 8.7MB/s eta 0:00:26     |████████████████▋               | 235.2MB 8.7MB/s eta 0:00:26     |████████████████▋               | 235.8MB 8.7MB/s eta 0:00:26     |████████████████▊               | 236.9MB 8.7MB/s eta 0:00:25     |████████████████▊               | 237.5MB 8.7MB/s eta 0:00:25     |████████████████▉               | 238.6MB 8.7MB/s eta 0:00:25     |████████████████▉               | 239.1MB 8.7MB/s eta 0:00:25     |█████████████████               | 240.1MB 8.7MB/s eta 0:00:25     |█████████████████               | 240.7MB 8.7MB/s eta 0:00:25     |█████████████████               | 241.1MB 10.3MB/s eta 0:00:21     |█████████████████               | 242.2MB 10.3MB/s eta 0:00:21     |█████████████████               | 242.8MB 10.3MB/s eta 0:00:21     |█████████████████▏              | 243.3MB 10.3MB/s eta 0:00:21     |█████████████████▏              | 243.9MB 10.3MB/s eta 0:00:21     |█████████████████▎              | 245.0MB 10.3MB/s eta 0:00:21     |█████████████████▍              | 246.7MB 10.3MB/s eta 0:00:21     |█████████████████▋              | 249.9MB 10.3MB/s eta 0:00:20     |█████████████████▋              | 250.4MB 10.3MB/s eta 0:00:20     |█████████████████▊              | 251.0MB 12.4MB/s eta 0:00:17     |█████████████████▊              | 251.5MB 12.4MB/s eta 0:00:17     |█████████████████▊              | 252.0MB 12.4MB/s eta 0:00:17     |█████████████████▉              | 253.1MB 12.4MB/s eta 0:00:17     |██████████████████▏             | 258.3MB 12.4MB/s eta 0:00:16     |██████████████████▎             | 259.4MB 12.4MB/s eta 0:00:16     |██████████████████▎             | 259.9MB 12.4MB/s eta 0:00:16     |██████████████████▍             | 260.5MB 8.6MB/s eta 0:00:23     |██████████████████▍             | 261.5MB 8.6MB/s eta 0:00:23     |██████████████████▌             | 262.6MB 8.6MB/s eta 0:00:23     |██████████████████▋             | 264.2MB 8.6MB/s eta 0:00:23     |██████████████████▊             | 265.9MB 8.6MB/s eta 0:00:22     |██████████████████▊             | 266.4MB 8.6MB/s eta 0:00:22     |██████████████████▉             | 268.0MB 8.6MB/s eta 0:00:22     |███████████████████             | 268.6MB 8.6MB/s eta 0:00:22     |███████████████████             | 269.1MB 8.6MB/s eta 0:00:22     |███████████████████             | 270.2MB 10.5MB/s eta 0:00:18\u001b[K     |███████████████████████████▌    | 391.1MB 9.9MB/s eta 0:00:071     |███████████████████▏            | 271.8MB 10.5MB/s eta 0:00:18     |███████████████████▏            | 272.8MB 10.5MB/s eta 0:00:18     |███████████████████▎            | 273.9MB 10.5MB/s eta 0:00:18     |███████████████████▌            | 276.1MB 10.5MB/s eta 0:00:18     |███████████████████▋            | 277.6MB 10.5MB/s eta 0:00:17     |███████████████████▊            | 280.2MB 9.9MB/s eta 0:00:18     |███████████████████▊            | 280.8MB 9.9MB/s eta 0:00:18     |███████████████████▉            | 281.3MB 9.9MB/s eta 0:00:18     |███████████████████▉            | 281.8MB 9.9MB/s eta 0:00:18     |███████████████████▉            | 282.4MB 9.9MB/s eta 0:00:18     |████████████████████            | 283.4MB 9.9MB/s eta 0:00:18     |████████████████████            | 285.0MB 9.9MB/s eta 0:00:18     |████████████████████▏           | 285.9MB 9.9MB/s eta 0:00:18     |████████████████████▏           | 287.0MB 9.9MB/s eta 0:00:17     |████████████████████▍           | 289.7MB 11.0MB/s eta 0:00:15     |████████████████████▌           | 291.3MB 11.0MB/s eta 0:00:15     |████████████████████▋           | 292.3MB 11.0MB/s eta 0:00:15     |████████████████████▋           | 292.9MB 11.0MB/s eta 0:00:15     |████████████████████▋           | 293.4MB 11.0MB/s eta 0:00:15     |████████████████████▊           | 294.4MB 11.0MB/s eta 0:00:15     |████████████████████▉           | 295.6MB 11.0MB/s eta 0:00:15     |████████████████████▉           | 296.1MB 11.0MB/s eta 0:00:15     |█████████████████████           | 296.6MB 11.0MB/s eta 0:00:15     |█████████████████████           | 297.7MB 11.0MB/s eta 0:00:15     |█████████████████████           | 298.2MB 11.0MB/s eta 0:00:15     |█████████████████████           | 298.6MB 13.7MB/s eta 0:00:12     |█████████████████████           | 299.1MB 13.7MB/s eta 0:00:12     |█████████████████████           | 299.6MB 13.7MB/s eta 0:00:12     |█████████████████████▏          | 300.2MB 13.7MB/s eta 0:00:12     |█████████████████████▏          | 300.7MB 13.7MB/s eta 0:00:12     |█████████████████████▏          | 301.2MB 13.7MB/s eta 0:00:12     |█████████████████████▎          | 301.7MB 13.7MB/s eta 0:00:12     |█████████████████████▎          | 302.8MB 13.7MB/s eta 0:00:12     |█████████████████████▍          | 303.8MB 13.7MB/s eta 0:00:11     |█████████████████████▌          | 304.8MB 13.7MB/s eta 0:00:11     |█████████████████████▌          | 305.2MB 13.7MB/s eta 0:00:11     |█████████████████████▌          | 305.7MB 13.7MB/s eta 0:00:11     |█████████████████████▋          | 307.3MB 13.7MB/s eta 0:00:11     |█████████████████████▊          | 307.9MB 12.8MB/s eta 0:00:12     |█████████████████████▊          | 308.4MB 12.8MB/s eta 0:00:12     |█████████████████████▉          | 310.1MB 12.8MB/s eta 0:00:12     |██████████████████████          | 311.2MB 12.8MB/s eta 0:00:12     |██████████████████████          | 312.2MB 12.8MB/s eta 0:00:12     |██████████████████████          | 312.8MB 12.8MB/s eta 0:00:12     |██████████████████████          | 313.3MB 12.8MB/s eta 0:00:12     |██████████████████████▏         | 314.4MB 12.8MB/s eta 0:00:11     |██████████████████████▏         | 315.0MB 12.8MB/s eta 0:00:11     |██████████████████████▎         | 315.5MB 12.8MB/s eta 0:00:11     |██████████████████████▍         | 317.1MB 12.8MB/s eta 0:00:11     |██████████████████████▍         | 317.7MB 7.3MB/s eta 0:00:19     |██████████████████████▌         | 318.8MB 7.3MB/s eta 0:00:19     |██████████████████████▌         | 319.5MB 7.3MB/s eta 0:00:19     |██████████████████████▌         | 319.8MB 7.3MB/s eta 0:00:19     |██████████████████████▋         | 321.4MB 7.3MB/s eta 0:00:19     |██████████████████████▊         | 322.1MB 7.3MB/s eta 0:00:19     |██████████████████████▊         | 322.5MB 7.3MB/s eta 0:00:19     |██████████████████████▊         | 323.0MB 7.3MB/s eta 0:00:19     |██████████████████████▉         | 323.6MB 7.3MB/s eta 0:00:18     |██████████████████████▉         | 324.1MB 7.3MB/s eta 0:00:18     |██████████████████████▉         | 324.7MB 7.3MB/s eta 0:00:18     |███████████████████████         | 325.2MB 7.3MB/s eta 0:00:18     |███████████████████████▏        | 328.3MB 6.7MB/s eta 0:00:19     |███████████████████████▏        | 328.8MB 6.7MB/s eta 0:00:19     |███████████████████████▏        | 329.4MB 6.7MB/s eta 0:00:19     |███████████████████████▎        | 330.5MB 6.7MB/s eta 0:00:19     |███████████████████████▎        | 331.0MB 6.7MB/s eta 0:00:19     |███████████████████████▍        | 332.7MB 6.7MB/s eta 0:00:19     |███████████████████████▌        | 333.2MB 6.7MB/s eta 0:00:18     |███████████████████████▌        | 334.3MB 6.7MB/s eta 0:00:18     |███████████████████████▋        | 335.5MB 4.3MB/s eta 0:00:28     |███████████████████████▊        | 336.1MB 4.3MB/s eta 0:00:28     |███████████████████████▊        | 336.6MB 4.3MB/s eta 0:00:28     |███████████████████████▉        | 337.7MB 4.3MB/s eta 0:00:28     |███████████████████████▉        | 338.9MB 4.3MB/s eta 0:00:28     |████████████████████████        | 339.9MB 4.3MB/s eta 0:00:27     |████████████████████████        | 341.5MB 4.3MB/s eta 0:00:27     |████████████████████████▏       | 343.6MB 4.3MB/s eta 0:00:26     |████████████████████████▍       | 345.8MB 4.0MB/s eta 0:00:28     |████████████████████████▌       | 347.4MB 4.0MB/s eta 0:00:28     |████████████████████████▋       | 350.1MB 4.0MB/s eta 0:00:27     |████████████████████████▊       | 351.2MB 4.0MB/s eta 0:00:27     |████████████████████████▉       | 352.7MB 4.0MB/s eta 0:00:26     |████████████████████████▉       | 353.3MB 4.0MB/s eta 0:00:26     |█████████████████████████       | 353.8MB 4.0MB/s eta 0:00:26     |█████████████████████████       | 354.4MB 4.0MB/s eta 0:00:26     |█████████████████████████       | 354.8MB 4.3MB/s eta 0:00:24     |█████████████████████████▏      | 357.5MB 4.3MB/s eta 0:00:23     |█████████████████████████▍      | 360.2MB 4.3MB/s eta 0:00:23     |█████████████████████████▍      | 360.6MB 4.3MB/s eta 0:00:22     |█████████████████████████▌      | 361.7MB 4.3MB/s eta 0:00:22     |█████████████████████████▌      | 362.7MB 4.3MB/s eta 0:00:22     |█████████████████████████▋      | 363.3MB 4.3MB/s eta 0:00:22     |██████████████████████████      | 368.1MB 4.0MB/s eta 0:00:22     |██████████████████████████      | 368.7MB 4.0MB/s eta 0:00:22     |██████████████████████████      | 370.3MB 4.0MB/s eta 0:00:22     |██████████████████████████▏     | 370.9MB 4.0MB/s eta 0:00:22     |██████████████████████████▏     | 371.4MB 4.0MB/s eta 0:00:21     |██████████████████████████▏     | 371.9MB 4.0MB/s eta 0:00:21     |██████████████████████████▎     | 373.0MB 4.0MB/s eta 0:00:21     |██████████████████████████▍     | 374.5MB 4.5MB/s eta 0:00:18     |██████████████████████████▌     | 375.6MB 4.5MB/s eta 0:00:18     |██████████████████████████▌     | 376.1MB 4.5MB/s eta 0:00:18     |██████████████████████████▋     | 377.2MB 4.5MB/s eta 0:00:18     |██████████████████████████▋     | 377.7MB 4.5MB/s eta 0:00:17     |██████████████████████████▊     | 379.8MB 4.5MB/s eta 0:00:17     |██████████████████████████▉     | 380.3MB 4.5MB/s eta 0:00:17     |██████████████████████████▉     | 380.9MB 4.5MB/s eta 0:00:17     |██████████████████████████▉     | 381.4MB 4.5MB/s eta 0:00:17     |███████████████████████████     | 382.5MB 4.5MB/s eta 0:00:16     |███████████████████████████     | 383.1MB 9.9MB/s eta 0:00:08     |███████████████████████████     | 383.6MB 9.9MB/s eta 0:00:08     |███████████████████████████     | 384.2MB 9.9MB/s eta 0:00:08     |███████████████████████████     | 384.7MB 9.9MB/s eta 0:00:08     |███████████████████████████▏    | 385.3MB 9.9MB/s eta 0:00:08     |███████████████████████████▎    | 386.9MB 9.9MB/s eta 0:00:07     |███████████████████████████▎    | 387.5MB 9.9MB/s eta 0:00:07     |███████████████████████████▎    | 388.0MB 9.9MB/s eta 0:00:07     |███████████████████████████▍    | 388.6MB 9.9MB/s eta 0:00:07     |███████████████████████████▍    | 389.2MB 9.9MB/s eta 0:00:07     |███████████████████████████▍    | 389.6MB 9.9MB/s eta 0:00:07     |███████████████████████████▌    | 390.6MB 9.9MB/s eta 0:00:07\u001b[K     |████████████████████████████████| 454.3MB 17kB/s  eta 0:00:011    |███████████████████████████▋    | 392.2MB 9.9MB/s eta 0:00:07     |███████████████████████████▊    | 394.3MB 3.4MB/s eta 0:00:18     |████████████████████████████    | 396.0MB 3.4MB/s eta 0:00:18     |████████████████████████████    | 396.5MB 3.4MB/s eta 0:00:18     |████████████████████████████    | 397.5MB 3.4MB/s eta 0:00:17     |████████████████████████████▏   | 399.7MB 3.4MB/s eta 0:00:17     |████████████████████████████▏   | 400.3MB 3.4MB/s eta 0:00:17     |████████████████████████████▎   | 400.8MB 3.4MB/s eta 0:00:16     |████████████████████████████▎   | 401.4MB 3.4MB/s eta 0:00:16     |████████████████████████████▎   | 401.9MB 3.4MB/s eta 0:00:16     |████████████████████████████▍   | 403.0MB 3.4MB/s eta 0:00:16     |████████████████████████████▍   | 403.6MB 3.4MB/s eta 0:00:15     |████████████████████████████▌   | 404.1MB 3.4MB/s eta 0:00:15     |████████████████████████████▋   | 405.9MB 3.4MB/s eta 0:00:15     |████████████████████████████▋   | 406.4MB 3.4MB/s eta 0:00:15     |████████████████████████████▋   | 406.9MB 3.4MB/s eta 0:00:14     |████████████████████████████▉   | 408.6MB 3.4MB/s eta 0:00:14     |████████████████████████████▉   | 409.7MB 3.4MB/s eta 0:00:14     |█████████████████████████████   | 410.3MB 3.4MB/s eta 0:00:13     |█████████████████████████████   | 410.8MB 3.4MB/s eta 0:00:13     |█████████████████████████████   | 411.3MB 3.4MB/s eta 0:00:13     |█████████████████████████████   | 411.8MB 3.4MB/s eta 0:00:13     |█████████████████████████████▎  | 415.5MB 3.3MB/s eta 0:00:12     |█████████████████████████████▎  | 416.0MB 3.3MB/s eta 0:00:12     |█████████████████████████████▍  | 416.6MB 3.3MB/s eta 0:00:12     |█████████████████████████████▍  | 417.6MB 3.3MB/s eta 0:00:12     |█████████████████████████████▌  | 419.2MB 3.3MB/s eta 0:00:11     |█████████████████████████████▊  | 421.4MB 3.3MB/s eta 0:00:11     |█████████████████████████████▊  | 422.5MB 5.7MB/s eta 0:00:06     |█████████████████████████████▉  | 423.0MB 5.7MB/s eta 0:00:06     |█████████████████████████████▉  | 423.6MB 5.7MB/s eta 0:00:06     |█████████████████████████████▉  | 424.1MB 5.7MB/s eta 0:00:06     |██████████████████████████████  | 425.6MB 5.7MB/s eta 0:00:06     |██████████████████████████████  | 426.2MB 5.7MB/s eta 0:00:05     |██████████████████████████████  | 426.7MB 5.7MB/s eta 0:00:05     |██████████████████████████████▏ | 427.8MB 5.7MB/s eta 0:00:05     |██████████████████████████████▏ | 428.3MB 5.7MB/s eta 0:00:05     |██████████████████████████████▎ | 429.3MB 5.7MB/s eta 0:00:05     |██████████████████████████████▍ | 431.4MB 22.8MB/s eta 0:00:02     |██████████████████████████████▍ | 431.9MB 22.8MB/s eta 0:00:01     |██████████████████████████████▌ | 432.5MB 22.8MB/s eta 0:00:01     |██████████████████████████████▋ | 434.0MB 22.8MB/s eta 0:00:01     |██████████████████████████████▋ | 434.5MB 22.8MB/s eta 0:00:01     |██████████████████████████████▊ | 435.5MB 22.8MB/s eta 0:00:01     |██████████████████████████████▊ | 436.6MB 22.8MB/s eta 0:00:01     |███████████████████████████████ | 439.3MB 22.8MB/s eta 0:00:01     |███████████████████████████████ | 439.8MB 22.8MB/s eta 0:00:01     |███████████████████████████████ | 440.4MB 12.0MB/s eta 0:00:02     |███████████████████████████████▏| 443.1MB 12.0MB/s eta 0:00:01     |███████████████████████████████▎| 443.7MB 12.0MB/s eta 0:00:01     |███████████████████████████████▎| 444.2MB 12.0MB/s eta 0:00:01     |███████████████████████████████▌| 446.8MB 12.0MB/s eta 0:00:01     |███████████████████████████████▌| 447.3MB 12.0MB/s eta 0:00:01     |███████████████████████████████▋| 449.5MB 12.0MB/s eta 0:00:01     |███████████████████████████████▊| 450.0MB 4.3MB/s eta 0:00:01     |███████████████████████████████▊| 450.5MB 4.3MB/s eta 0:00:01     |███████████████████████████████▉| 451.6MB 4.3MB/s eta 0:00:01     |███████████████████████████████▉| 452.1MB 4.3MB/s eta 0:00:01     |███████████████████████████████▉| 452.6MB 4.3MB/s eta 0:00:01     |████████████████████████████████| 453.1MB 4.3MB/s eta 0:00:01\n",
      "\u001b[?25hRequirement already satisfied, skipping upgrade: protobuf>=3.9.2 in /root/.local/lib/python3.7/site-packages (from tensorflow) (3.17.3)\n",
      "Collecting tensorflow-estimator<2.6.0,>=2.5.0rc0\n",
      "\u001b[?25l  Downloading https://files.pythonhosted.org/packages/ec/78/b27f73e923becc6e79e18fe112cf75e3200d1ee35b0dba8fa46181bce56c/tensorflow_estimator-2.5.0-py2.py3-none-any.whl (462kB)\n",
      "\u001b[K     |████████████████████████████████| 471kB 66kB/s s eta 0:00:01     |███████████████████▏            | 276kB 38.5MB/s eta 0:00:01\n",
      "\u001b[?25hCollecting grpcio~=1.34.0\n",
      "\u001b[?25l  Downloading https://files.pythonhosted.org/packages/d5/d1/f38a91d8724706427fe973a7dfa11e938cee98aa7196b03d870a25a08bab/grpcio-1.34.1-cp37-cp37m-manylinux2014_x86_64.whl (4.0MB)\n",
      "\u001b[K     |████████████████████████████████| 4.0MB 10.2MB/s eta 0:00:01   |▉                               | 102kB 10.2MB/s eta 0:00:01     |██████████████▊                 | 1.8MB 10.2MB/s eta 0:00:01     |█████████████████████████████▏  | 3.6MB 10.2MB/s eta 0:00:01\n",
      "\u001b[?25hCollecting typing-extensions~=3.7.4\n",
      "  Downloading https://files.pythonhosted.org/packages/60/7a/e881b5abb54db0e6e671ab088d079c57ce54e8a01a3ca443f561ccadb37e/typing_extensions-3.7.4.3-py3-none-any.whl\n",
      "Collecting keras-nightly~=2.5.0.dev\n",
      "\u001b[?25l  Downloading https://files.pythonhosted.org/packages/aa/e7/53bc896aa4e11a87aac10a625c676b3a3d57d1c8d9929e4809d31fa0b7d5/keras_nightly-2.5.0.dev2021032900-py2.py3-none-any.whl (1.2MB)\n",
      "\u001b[K     |████████████████████████████████| 1.2MB 4.1MB/s eta 0:00:01     |███████████████▎                | 593kB 4.1MB/s eta 0:00:01\n",
      "\u001b[?25hCollecting gast==0.4.0\n",
      "  Downloading https://files.pythonhosted.org/packages/b6/48/583c032b79ae5b3daa02225a675aeb673e58d2cb698e78510feceb11958c/gast-0.4.0-py3-none-any.whl\n",
      "Collecting absl-py~=0.10\n",
      "\u001b[?25l  Downloading https://files.pythonhosted.org/packages/23/47/835652c7e19530973c73c65e652fc53bd05725d5a7cf9bb8706777869c1e/absl_py-0.13.0-py3-none-any.whl (132kB)\n",
      "\u001b[K     |████████████████████████████████| 133kB 12.6MB/s eta 0:00:01\n",
      "\u001b[?25hCollecting flatbuffers~=1.12.0\n",
      "  Downloading https://files.pythonhosted.org/packages/eb/26/712e578c5f14e26ae3314c39a1bdc4eb2ec2f4ddc89b708cf8e0a0d20423/flatbuffers-1.12-py2.py3-none-any.whl\n",
      "Collecting h5py~=3.1.0\n",
      "\u001b[?25l  Downloading https://files.pythonhosted.org/packages/9d/74/9eae2bedd8201ab464308f42c601a12d79727a1c87f0c867fdefb212c6cf/h5py-3.1.0-cp37-cp37m-manylinux1_x86_64.whl (4.0MB)\n",
      "\u001b[K     |████████████████████████████████| 4.0MB 4.8MB/s eta 0:00:01     |██████▏                         | 778kB 4.8MB/s eta 0:00:01     |████████████████                | 2.0MB 4.8MB/s eta 0:00:01     |█████████████████████▊          | 2.7MB 4.8MB/s eta 0:00:01     |██████████████████████████████  | 3.8MB 4.8MB/s eta 0:00:01\n",
      "\u001b[?25hCollecting google-pasta~=0.2\n",
      "\u001b[?25l  Downloading https://files.pythonhosted.org/packages/a3/de/c648ef6835192e6e2cc03f40b19eeda4382c49b5bafb43d88b931c4c74ac/google_pasta-0.2.0-py3-none-any.whl (57kB)\n",
      "\u001b[K     |████████████████████████████████| 61kB 6.9MB/s  eta 0:00:01\n",
      "\u001b[?25hRequirement already satisfied, skipping upgrade: termcolor~=1.1.0 in /opt/conda/lib/python3.7/site-packages (from tensorflow) (1.1.0)\n",
      "Collecting wheel~=0.35\n",
      "  Downloading https://files.pythonhosted.org/packages/65/63/39d04c74222770ed1589c0eaba06c05891801219272420b40311cd60c880/wheel-0.36.2-py2.py3-none-any.whl\n",
      "Collecting numpy~=1.19.2\n",
      "\u001b[?25l  Downloading https://files.pythonhosted.org/packages/08/d6/a6aaa29fea945bc6c61d11f6e0697b325ff7446de5ffd62c2fa02f627048/numpy-1.19.5-cp37-cp37m-manylinux2010_x86_64.whl (14.8MB)\n",
      "\u001b[K     |████████████████████████████████| 14.8MB 9.9MB/s eta 0:00:011    |██▍                             | 1.1MB 12.8MB/s eta 0:00:02     |████▉                           | 2.2MB 12.8MB/s eta 0:00:01�█████                          | 2.7MB 12.8MB/s eta 0:00:01 |████████▎                       | 3.9MB 12.8MB/s eta 0:00:01�██▎                      | 4.3MB 12.8MB/s eta 0:00:01     |███████████▎                    | 5.3MB 12.8MB/s eta 0:00:01     |████████████▌                   | 5.8MB 12.8MB/s eta 0:00:01     |███████████████▊                | 7.3MB 12.8MB/s eta 0:00:01     |█████████████████               | 7.9MB 12.8MB/s eta 0:00:01     |███████████████████▎            | 8.9MB 12.8MB/s eta 0:00:01     |████████████████████▋           | 9.5MB 12.8MB/s eta 0:00:01     |███████████████████████         | 10.7MB 9.9MB/s eta 0:00:01     |████████████████████████▎       | 11.2MB 9.9MB/s eta 0:00:01     |██████████████████████████▋     | 12.3MB 9.9MB/s eta 0:00:01     |███████████████████████████▊    | 12.9MB 9.9MB/s eta 0:00:01\n",
      "\u001b[?25hCollecting wrapt~=1.12.1\n",
      "  Downloading https://files.pythonhosted.org/packages/82/f7/e43cefbe88c5fd371f4cf0cf5eb3feccd07515af9fd6cf7dbf1d1793a797/wrapt-1.12.1.tar.gz\n",
      "Collecting opt-einsum~=3.3.0\n",
      "\u001b[?25l  Downloading https://files.pythonhosted.org/packages/bc/19/404708a7e54ad2798907210462fd950c3442ea51acc8790f3da48d2bee8b/opt_einsum-3.3.0-py3-none-any.whl (65kB)\n",
      "\u001b[K     |████████████████████████████████| 71kB 5.0MB/s eta 0:00:011\n",
      "\u001b[?25hCollecting six~=1.15.0\n",
      "  Downloading https://files.pythonhosted.org/packages/ee/ff/48bde5c0f013094d729fe4b0316ba2a24774b3ff1c52d924a8a4cb04078a/six-1.15.0-py2.py3-none-any.whl\n",
      "Collecting keras-preprocessing~=1.1.2\n",
      "\u001b[?25l  Downloading https://files.pythonhosted.org/packages/79/4c/7c3275a01e12ef9368a892926ab932b33bb13d55794881e3573482b378a7/Keras_Preprocessing-1.1.2-py2.py3-none-any.whl (42kB)\n",
      "\u001b[K     |████████████████████████████████| 51kB 5.9MB/s eta 0:00:01\n",
      "\u001b[?25hCollecting astunparse~=1.6.3\n",
      "  Downloading https://files.pythonhosted.org/packages/2b/03/13dde6512ad7b4557eb792fbcf0c653af6076b81e5941d36ec61f7ce6028/astunparse-1.6.3-py2.py3-none-any.whl\n",
      "Collecting tensorboard~=2.5\n",
      "\u001b[?25l  Downloading https://files.pythonhosted.org/packages/44/f5/7feea02a3fb54d5db827ac4b822a7ba8933826b36de21880518250b8733a/tensorboard-2.5.0-py3-none-any.whl (6.0MB)\n",
      "\u001b[K     |████████████████████████████████| 6.0MB 9.3MB/s eta 0:00:01     |▋                               | 122kB 9.3MB/s eta 0:00:01     |████                            | 747kB 9.3MB/s eta 0:00:01████▌                          | 1.0MB 9.3MB/s eta 0:00:01��███████▏                       | 1.5MB 9.3MB/s eta 0:00:01     |████████████████▉               | 3.2MB 9.3MB/s eta 0:00:01     |███████████████████▉            | 3.7MB 9.3MB/s eta 0:00:01     |█████████████████████████▉      | 4.9MB 9.3MB/s eta 0:00:01     |████████████████████████████████| 6.0MB 9.3MB/s eta 0:00:01\n",
      "\u001b[?25hCollecting cached-property; python_version < \"3.8\"\n",
      "  Downloading https://files.pythonhosted.org/packages/48/19/f2090f7dad41e225c7f2326e4cfe6fff49e57dedb5b53636c9551f86b069/cached_property-1.5.2-py2.py3-none-any.whl\n",
      "Requirement already satisfied, skipping upgrade: markdown>=2.6.8 in /opt/conda/lib/python3.7/site-packages (from tensorboard~=2.5->tensorflow) (3.1.1)\n",
      "Collecting tensorboard-plugin-wit>=1.6.0\n",
      "\u001b[?25l  Downloading https://files.pythonhosted.org/packages/1a/c1/499e600ba0c618b451cd9c425ae1c177249940a2086316552fee7d86c954/tensorboard_plugin_wit-1.8.0-py3-none-any.whl (781kB)\n",
      "\u001b[K     |████████████████████████████████| 788kB 22.6MB/s eta 0:00:01     |█████████████████████           | 512kB 22.6MB/s eta 0:00:01\n",
      "\u001b[?25hCollecting google-auth-oauthlib<0.5,>=0.4.1\n",
      "  Downloading https://files.pythonhosted.org/packages/9d/d3/7541e89f1fc456eef157224f597a8bba22589db6369a03eaba68c11f07a0/google_auth_oauthlib-0.4.4-py2.py3-none-any.whl\n",
      "Collecting google-auth<2,>=1.6.3\n",
      "\u001b[?25l  Downloading https://files.pythonhosted.org/packages/6e/1d/e4718af587967b8fb6ac7e0e257809934005a3f8fde8f31a304c7e682874/google_auth-1.32.1-py2.py3-none-any.whl (147kB)\n",
      "\u001b[K     |████████████████████████████████| 153kB 16.0MB/s eta 0:00:01\n",
      "\u001b[?25hRequirement already satisfied, skipping upgrade: setuptools>=41.0.0 in /opt/conda/lib/python3.7/site-packages (from tensorboard~=2.5->tensorflow) (41.4.0)\n",
      "Requirement already satisfied, skipping upgrade: werkzeug>=0.11.15 in /opt/conda/lib/python3.7/site-packages (from tensorboard~=2.5->tensorflow) (0.16.0)\n",
      "Collecting tensorboard-data-server<0.7.0,>=0.6.0\n",
      "\u001b[?25l  Downloading https://files.pythonhosted.org/packages/60/f9/802efd84988bffd9f644c03b6e66fde8e76c3aa33db4279ddd11c5d61f4b/tensorboard_data_server-0.6.1-py3-none-manylinux2010_x86_64.whl (4.9MB)\n",
      "\u001b[K     |████████████████████████████████| 4.9MB 6.2MB/s eta 0:00:01     |████                            | 614kB 6.2MB/s eta 0:00:01     |███████████▍                    | 1.8MB 6.2MB/s eta 0:00:01[K     |██████████████▏                 | 2.2MB 6.2MB/s eta 0:00:01     | 2.6MB 6.2MB/s eta 0:00:01     |███████████████████████████████▊| 4.9MB 6.2MB/s eta 0:00:01\n",
      "\u001b[?25hRequirement already satisfied, skipping upgrade: requests<3,>=2.21.0 in /opt/conda/lib/python3.7/site-packages (from tensorboard~=2.5->tensorflow) (2.22.0)\n",
      "Collecting requests-oauthlib>=0.7.0\n",
      "  Downloading https://files.pythonhosted.org/packages/a3/12/b92740d845ab62ea4edf04d2f4164d82532b5a0b03836d4d4e71c6f3d379/requests_oauthlib-1.3.0-py2.py3-none-any.whl\n",
      "Collecting pyasn1-modules>=0.2.1\n",
      "\u001b[?25l  Downloading https://files.pythonhosted.org/packages/95/de/214830a981892a3e286c3794f41ae67a4495df1108c3da8a9f62159b9a9d/pyasn1_modules-0.2.8-py2.py3-none-any.whl (155kB)\n",
      "\u001b[K     |████████████████████████████████| 163kB 25.3MB/s eta 0:00:01\n",
      "\u001b[?25hCollecting cachetools<5.0,>=2.0.0\n",
      "  Downloading https://files.pythonhosted.org/packages/bf/28/c4f5796c67ad06bb91d98d543a5e01805c1ff065e08871f78e52d2a331ad/cachetools-4.2.2-py3-none-any.whl\n",
      "Collecting rsa<5,>=3.1.4; python_version >= \"3.6\"\n",
      "  Downloading https://files.pythonhosted.org/packages/e9/93/0c0f002031f18b53af7a6166103c02b9c0667be528944137cc954ec921b3/rsa-4.7.2-py3-none-any.whl\n",
      "Requirement already satisfied, skipping upgrade: urllib3!=1.25.0,!=1.25.1,<1.26,>=1.21.1 in /opt/conda/lib/python3.7/site-packages (from requests<3,>=2.21.0->tensorboard~=2.5->tensorflow) (1.24.2)\n",
      "Requirement already satisfied, skipping upgrade: idna<2.9,>=2.5 in /opt/conda/lib/python3.7/site-packages (from requests<3,>=2.21.0->tensorboard~=2.5->tensorflow) (2.8)\n",
      "Requirement already satisfied, skipping upgrade: certifi>=2017.4.17 in /opt/conda/lib/python3.7/site-packages (from requests<3,>=2.21.0->tensorboard~=2.5->tensorflow) (2019.11.28)\n",
      "Requirement already satisfied, skipping upgrade: chardet<3.1.0,>=3.0.2 in /opt/conda/lib/python3.7/site-packages (from requests<3,>=2.21.0->tensorboard~=2.5->tensorflow) (3.0.4)\n",
      "Collecting oauthlib>=3.0.0\n",
      "\u001b[?25l  Downloading https://files.pythonhosted.org/packages/e8/5d/9dd1c29e5a786525f6342f6c1d812ed2e37edc653ad297048c1668988053/oauthlib-3.1.1-py2.py3-none-any.whl (146kB)\n",
      "\u001b[K     |████████████████████████████████| 153kB 41.9MB/s eta 0:00:01\n",
      "\u001b[?25hCollecting pyasn1<0.5.0,>=0.4.6\n",
      "\u001b[?25l  Downloading https://files.pythonhosted.org/packages/62/1e/a94a8d635fa3ce4cfc7f506003548d0a2447ae76fd5ca53932970fe3053f/pyasn1-0.4.8-py2.py3-none-any.whl (77kB)\n",
      "\u001b[K     |████████████████████████████████| 81kB 4.5MB/s eta 0:00:01\n",
      "\u001b[?25hBuilding wheels for collected packages: wrapt\n",
      "  Building wheel for wrapt (setup.py) ... \u001b[?25ldone\n",
      "\u001b[?25h  Created wheel for wrapt: filename=wrapt-1.12.1-cp37-cp37m-linux_x86_64.whl size=70990 sha256=82ce0e52ce2c3890755ab4fe9e20e49e591ede907cfdca1265fe7f0a6e9cb96a\n",
      "  Stored in directory: /root/.cache/pip/wheels/b1/c2/ed/d62208260edbd3fa7156545c00ef966f45f2063d0a84f8208a\n",
      "Successfully built wrapt\n",
      "Installing collected packages: tensorflow-estimator, six, grpcio, typing-extensions, keras-nightly, gast, absl-py, flatbuffers, numpy, cached-property, h5py, google-pasta, wheel, wrapt, opt-einsum, keras-preprocessing, astunparse, tensorboard-plugin-wit, oauthlib, requests-oauthlib, pyasn1, pyasn1-modules, cachetools, rsa, google-auth, google-auth-oauthlib, tensorboard-data-server, tensorboard, tensorflow\n",
      "  Found existing installation: typing-extensions 3.10.0.0\n",
      "    Uninstalling typing-extensions-3.10.0.0:\n",
      "      Successfully uninstalled typing-extensions-3.10.0.0\n",
      "\u001b[33m  WARNING: The scripts f2py, f2py3 and f2py3.7 are installed in '/root/.local/bin' which is not on PATH.\n",
      "  Consider adding this directory to PATH or, if you prefer to suppress this warning, use --no-warn-script-location.\u001b[0m\n",
      "\u001b[33m  WARNING: The script wheel is installed in '/root/.local/bin' which is not on PATH.\n",
      "  Consider adding this directory to PATH or, if you prefer to suppress this warning, use --no-warn-script-location.\u001b[0m\n",
      "\u001b[33m  WARNING: The scripts pyrsa-decrypt, pyrsa-encrypt, pyrsa-keygen, pyrsa-priv2pub, pyrsa-sign and pyrsa-verify are installed in '/root/.local/bin' which is not on PATH.\n",
      "  Consider adding this directory to PATH or, if you prefer to suppress this warning, use --no-warn-script-location.\u001b[0m\n",
      "\u001b[33m  WARNING: The script google-oauthlib-tool is installed in '/root/.local/bin' which is not on PATH.\n",
      "  Consider adding this directory to PATH or, if you prefer to suppress this warning, use --no-warn-script-location.\u001b[0m\n",
      "\u001b[33m  WARNING: The script tensorboard is installed in '/root/.local/bin' which is not on PATH.\n",
      "  Consider adding this directory to PATH or, if you prefer to suppress this warning, use --no-warn-script-location.\u001b[0m\n",
      "\u001b[33m  WARNING: The scripts estimator_ckpt_converter, import_pb_to_tensorboard, saved_model_cli, tensorboard, tf_upgrade_v2, tflite_convert, toco and toco_from_protos are installed in '/root/.local/bin' which is not on PATH.\n",
      "  Consider adding this directory to PATH or, if you prefer to suppress this warning, use --no-warn-script-location.\u001b[0m\n",
      "Successfully installed absl-py-0.13.0 astunparse-1.6.3 cached-property-1.5.2 cachetools-4.2.2 flatbuffers-1.12 gast-0.4.0 google-auth-1.32.1 google-auth-oauthlib-0.4.4 google-pasta-0.2.0 grpcio-1.34.1 h5py-3.1.0 keras-nightly-2.5.0.dev2021032900 keras-preprocessing-1.1.2 numpy-1.19.5 oauthlib-3.1.1 opt-einsum-3.3.0 pyasn1-0.4.8 pyasn1-modules-0.2.8 requests-oauthlib-1.3.0 rsa-4.7.2 six-1.15.0 tensorboard-2.5.0 tensorboard-data-server-0.6.1 tensorboard-plugin-wit-1.8.0 tensorflow-2.5.0 tensorflow-estimator-2.5.0 typing-extensions-3.7.4.3 wheel-0.36.2 wrapt-1.12.1\n"
     ]
    }
   ],
   "source": [
    "# The new version of dataset is only available in the tfds-nightly package.\n",
    "%pip --no-cache-dir install tensorflow-datasets --user\n",
    "# DON'T MISS TO RESTART THE KERNEL\n",
    "%pip --no-cache-dir install tfds-nightly --user\n",
    "!pip install tensorflow --upgrade --user"
   ]
  },
  {
   "cell_type": "code",
   "execution_count": 1,
   "metadata": {},
   "outputs": [],
   "source": [
    "# Import TensorFlow \n",
    "import tensorflow as tf\n",
    "import tensorflow_datasets as tfds\n",
    "import tensorflow_hub as hub"
   ]
  },
  {
   "cell_type": "code",
   "execution_count": 2,
   "metadata": {},
   "outputs": [],
   "source": [
    "# TODO: Make all other necessary imports.\n",
    "\n",
    "import numpy as np\n",
    "import matplotlib.pyplot as plt\n",
    "import json\n",
    "from tensorflow.keras.preprocessing.image import ImageDataGenerator\n",
    "import os\n"
   ]
  },
  {
   "cell_type": "markdown",
   "metadata": {
    "colab_type": "text",
    "id": "tWKF0YOarpCx"
   },
   "source": [
    "## Load the Dataset\n",
    "\n",
    "Here you'll use `tensorflow_datasets` to load the [Oxford Flowers 102 dataset](https://www.tensorflow.org/datasets/catalog/oxford_flowers102). This dataset has 3 splits: `'train'`, `'test'`, and `'validation'`.  You'll also need to make sure the training data is normalized and resized to 224x224 pixels as required by the pre-trained networks.\n",
    "\n",
    "The validation and testing sets are used to measure the model's performance on data it hasn't seen yet, but you'll still need to normalize and resize the images to the appropriate size."
   ]
  },
  {
   "cell_type": "code",
   "execution_count": 3,
   "metadata": {
    "colab": {
     "base_uri": "https://localhost:8080/",
     "height": 1000
    },
    "colab_type": "code",
    "id": "vXISRjfdrrQ6",
    "outputId": "6edf59b2-b468-4c4a-cff4-7cc7cfcc3c2d"
   },
   "outputs": [
    {
     "name": "stdout",
     "output_type": "stream",
     "text": [
      "2021-07-09 23:36:31.351315: W tensorflow/stream_executor/platform/default/dso_loader.cc:64] Could not load dynamic library 'libcudart.so.11.0'; dlerror: libcudart.so.11.0: cannot open shared object file: No such file or directory\n",
      "2021-07-09 23:36:31.351472: I tensorflow/stream_executor/cuda/cudart_stub.cc:29] Ignore above cudart dlerror if you do not have a GPU set up on your machine.\n",
      "usage: download_and_prepare.py build [-h] [--helpfull]\n",
      "                                     [--module_import MODULE_IMPORT]\n",
      "                                     [--builder_config_id BUILDER_CONFIG_ID]\n",
      "                                     [--datasets DATASETS_KEYWORD [DATASETS_KEYWORD ...]]\n",
      "                                     [--overwrite]\n",
      "                                     [--max_examples_per_split [MAX_EXAMPLES_PER_SPLIT]]\n",
      "                                     [--data_dir DATA_DIR]\n",
      "                                     [--download_dir DOWNLOAD_DIR]\n",
      "                                     [--extract_dir EXTRACT_DIR]\n",
      "                                     [--manual_dir MANUAL_DIR]\n",
      "                                     [--add_name_to_manual_dir]\n",
      "                                     [--config CONFIG]\n",
      "                                     [--config_idx CONFIG_IDX]\n",
      "                                     [--imports IMPORTS]\n",
      "                                     [--register_checksums]\n",
      "                                     [--force_checksums_validation]\n",
      "                                     [--beam_pipeline_options BEAM_PIPELINE_OPTIONS]\n",
      "                                     [--exclude_datasets EXCLUDE_DATASETS]\n",
      "                                     [--experimental_latest_version]\n",
      "                                     [datasets [datasets ...]]\n",
      "download_and_prepare.py build: error: argument --register_checksums: ignored explicit argument 'True'\n",
      "\u001b[1mDownloading and preparing dataset 328.90 MiB (download: 328.90 MiB, generated: 331.34 MiB, total: 660.25 MiB) to /root/tensorflow_datasets/oxford_flowers102/2.1.1...\u001b[0m\n"
     ]
    },
    {
     "data": {
      "application/vnd.jupyter.widget-view+json": {
       "model_id": "68edc1c4bac14ae586abe5dace3b7013",
       "version_major": 2,
       "version_minor": 0
      },
      "text/plain": [
       "HBox(children=(IntProgress(value=1, bar_style='info', description='Dl Completed...', max=1, style=ProgressStyl…"
      ]
     },
     "metadata": {},
     "output_type": "display_data"
    },
    {
     "data": {
      "application/vnd.jupyter.widget-view+json": {
       "model_id": "bff8a8d1f4b448a486c6fcf04b63e509",
       "version_major": 2,
       "version_minor": 0
      },
      "text/plain": [
       "HBox(children=(IntProgress(value=1, bar_style='info', description='Dl Size...', max=1, style=ProgressStyle(des…"
      ]
     },
     "metadata": {},
     "output_type": "display_data"
    },
    {
     "data": {
      "application/vnd.jupyter.widget-view+json": {
       "model_id": "0d11332051b14bfa9344fffaf6df4e4d",
       "version_major": 2,
       "version_minor": 0
      },
      "text/plain": [
       "HBox(children=(IntProgress(value=1, bar_style='info', description='Extraction completed...', max=1, style=Prog…"
      ]
     },
     "metadata": {},
     "output_type": "display_data"
    },
    {
     "name": "stdout",
     "output_type": "stream",
     "text": [
      "\n",
      "\n",
      "\n"
     ]
    },
    {
     "data": {
      "application/vnd.jupyter.widget-view+json": {
       "model_id": "",
       "version_major": 2,
       "version_minor": 0
      },
      "text/plain": [
       "HBox(children=(IntProgress(value=0, description='Generating splits...', max=3, style=ProgressStyle(description…"
      ]
     },
     "metadata": {},
     "output_type": "display_data"
    },
    {
     "data": {
      "application/vnd.jupyter.widget-view+json": {
       "model_id": "",
       "version_major": 2,
       "version_minor": 0
      },
      "text/plain": [
       "HBox(children=(IntProgress(value=0, description='Generating train examples...', max=1020, style=ProgressStyle(…"
      ]
     },
     "metadata": {},
     "output_type": "display_data"
    },
    {
     "data": {
      "application/vnd.jupyter.widget-view+json": {
       "model_id": "",
       "version_major": 2,
       "version_minor": 0
      },
      "text/plain": [
       "HBox(children=(IntProgress(value=0, description='Shuffling oxford_flowers102-train.tfrecord...', max=1020, sty…"
      ]
     },
     "metadata": {},
     "output_type": "display_data"
    },
    {
     "data": {
      "application/vnd.jupyter.widget-view+json": {
       "model_id": "",
       "version_major": 2,
       "version_minor": 0
      },
      "text/plain": [
       "HBox(children=(IntProgress(value=0, description='Generating test examples...', max=6149, style=ProgressStyle(d…"
      ]
     },
     "metadata": {},
     "output_type": "display_data"
    },
    {
     "data": {
      "application/vnd.jupyter.widget-view+json": {
       "model_id": "",
       "version_major": 2,
       "version_minor": 0
      },
      "text/plain": [
       "HBox(children=(IntProgress(value=0, description='Shuffling oxford_flowers102-test.tfrecord...', max=6149, styl…"
      ]
     },
     "metadata": {},
     "output_type": "display_data"
    },
    {
     "data": {
      "application/vnd.jupyter.widget-view+json": {
       "model_id": "",
       "version_major": 2,
       "version_minor": 0
      },
      "text/plain": [
       "HBox(children=(IntProgress(value=0, description='Generating validation examples...', max=1020, style=ProgressS…"
      ]
     },
     "metadata": {},
     "output_type": "display_data"
    },
    {
     "data": {
      "application/vnd.jupyter.widget-view+json": {
       "model_id": "",
       "version_major": 2,
       "version_minor": 0
      },
      "text/plain": [
       "HBox(children=(IntProgress(value=0, description='Shuffling oxford_flowers102-validation.tfrecord...', max=1020…"
      ]
     },
     "metadata": {},
     "output_type": "display_data"
    },
    {
     "name": "stdout",
     "output_type": "stream",
     "text": [
      "\u001b[1mDataset oxford_flowers102 downloaded and prepared to /root/tensorflow_datasets/oxford_flowers102/2.1.1. Subsequent calls will reuse this data.\u001b[0m\n"
     ]
    }
   ],
   "source": [
    "# Download data to default local directory \"~/tensorflow_datasets\"\n",
    "!python -m tensorflow_datasets.scripts.download_and_prepare --register_checksums=True --datasets=oxford_flowers102\n",
    "\n",
    "# TODO: Load the dataset with TensorFlow Datasets. Hint: use tfds.load()\n",
    "train_split = 60\n",
    "test_val_split = 20\n",
    "\n",
    "# splits = tfds.Split.ALL.subsplit([train_split, test_val_split, test_val_split])\n",
    "\n",
    "dataset, dataset_info = tfds.load('oxford_flowers102', as_supervised=True, with_info=True)\n",
    "\n",
    "\n",
    "# TODO: Create a training set, a validation set and a test set.\n",
    "training_set = dataset['train']\n",
    "test_set = dataset['test']\n",
    "validation_set = dataset['validation']\n",
    "# training_set, validation_set, test_set = dataset"
   ]
  },
  {
   "cell_type": "code",
   "execution_count": 4,
   "metadata": {},
   "outputs": [],
   "source": [
    "def normalize(image, label):\n",
    "    image = tf.cast(image, tf.float32)\n",
    "    image /= 255\n",
    "    return image, label\n",
    "\n",
    "batch_size = 64"
   ]
  },
  {
   "cell_type": "code",
   "execution_count": 5,
   "metadata": {},
   "outputs": [
    {
     "data": {
      "text/plain": [
       "tfds.core.DatasetInfo(\n",
       "    name='oxford_flowers102',\n",
       "    full_name='oxford_flowers102/2.1.1',\n",
       "    description=\"\"\"\n",
       "    The Oxford Flowers 102 dataset is a consistent of 102 flower categories commonly occurring\n",
       "    in the United Kingdom. Each class consists of between 40 and 258 images. The images have\n",
       "    large scale, pose and light variations. In addition, there are categories that have large\n",
       "    variations within the category and several very similar categories.\n",
       "    \n",
       "    The dataset is divided into a training set, a validation set and a test set.\n",
       "    The training set and validation set each consist of 10 images per class (totalling 1020 images each).\n",
       "    The test set consists of the remaining 6149 images (minimum 20 per class).\n",
       "    \n",
       "    Note: The dataset by default comes with a test size larger than the train\n",
       "    size. For more info see this [issue](https://github.com/tensorflow/datasets/issues/3022).\n",
       "    \"\"\",\n",
       "    homepage='https://www.robots.ox.ac.uk/~vgg/data/flowers/102/',\n",
       "    data_path='/root/tensorflow_datasets/oxford_flowers102/2.1.1',\n",
       "    download_size=328.90 MiB,\n",
       "    dataset_size=331.34 MiB,\n",
       "    features=FeaturesDict({\n",
       "        'file_name': Text(shape=(), dtype=tf.string),\n",
       "        'image': Image(shape=(None, None, 3), dtype=tf.uint8),\n",
       "        'label': ClassLabel(shape=(), dtype=tf.int64, num_classes=102),\n",
       "    }),\n",
       "    supervised_keys=('image', 'label'),\n",
       "    disable_shuffling=False,\n",
       "    splits={\n",
       "        'test': <SplitInfo num_examples=6149, num_shards=2>,\n",
       "        'train': <SplitInfo num_examples=1020, num_shards=1>,\n",
       "        'validation': <SplitInfo num_examples=1020, num_shards=1>,\n",
       "    },\n",
       "    citation=\"\"\"@InProceedings{Nilsback08,\n",
       "       author = \"Nilsback, M-E. and Zisserman, A.\",\n",
       "       title = \"Automated Flower Classification over a Large Number of Classes\",\n",
       "       booktitle = \"Proceedings of the Indian Conference on Computer Vision, Graphics and Image Processing\",\n",
       "       year = \"2008\",\n",
       "       month = \"Dec\"\n",
       "    }\"\"\",\n",
       ")"
      ]
     },
     "execution_count": 5,
     "metadata": {},
     "output_type": "execute_result"
    }
   ],
   "source": [
    "dataset_info"
   ]
  },
  {
   "cell_type": "markdown",
   "metadata": {
    "colab_type": "text",
    "id": "S5pdQnDbf0-j"
   },
   "source": [
    "## Explore the Dataset"
   ]
  },
  {
   "cell_type": "code",
   "execution_count": 6,
   "metadata": {
    "colab": {
     "base_uri": "https://localhost:8080/",
     "height": 102
    },
    "colab_type": "code",
    "id": "XikJ4X7FUv8v",
    "outputId": "10240009-1148-41ae-8ce0-4025c2f2fa87"
   },
   "outputs": [
    {
     "name": "stdout",
     "output_type": "stream",
     "text": [
      "There are 4,301 images in the training set\n",
      "There are 1,433 images in the validation set\n",
      "There are 1,433 images in the test set\n",
      "Total number of classes is 4,301\n"
     ]
    }
   ],
   "source": [
    "# TODO: Get the number of examples in each set from the dataset info.\n",
    "total_examples = dataset_info.splits['train'].num_examples + dataset_info.splits['test'].num_examples\n",
    "\n",
    "num_training_examples = (total_examples * train_split) // 100\n",
    "num_validation_examples = (total_examples * test_val_split) // 100\n",
    "num_test_examples = num_validation_examples\n",
    "\n",
    "print('There are {:,} images in the training set'.format(num_training_examples))\n",
    "print('There are {:,} images in the validation set'.format(num_validation_examples))\n",
    "print('There are {:,} images in the test set'.format(num_test_examples))\n",
    "\n",
    "# TODO: Get the number of classes in the dataset from the dataset info.\n",
    "num_classes = dataset_info.features['label'].num_classes\n",
    "print('Total number of classes is {:,}'.format(num_training_examples))\n"
   ]
  },
  {
   "cell_type": "code",
   "execution_count": 7,
   "metadata": {
    "colab": {
     "base_uri": "https://localhost:8080/",
     "height": 68
    },
    "colab_type": "code",
    "id": "CWR9ScCbPI_D",
    "outputId": "fdf01c8d-2db9-4d7c-a566-4db2599fd1ab"
   },
   "outputs": [
    {
     "name": "stdout",
     "output_type": "stream",
     "text": [
      "The images in the training set have:\n",
      "• dtype: <dtype: 'uint8'>\n",
      "• shape: (500, 667, 3)\n",
      "\n",
      "The labels of the images have:\n",
      "• dtype: <dtype: 'int64'> \n",
      "\n",
      "\n",
      "The images in the training set have:\n",
      "• dtype: <dtype: 'uint8'>\n",
      "• shape: (500, 666, 3)\n",
      "\n",
      "The labels of the images have:\n",
      "• dtype: <dtype: 'int64'> \n",
      "\n",
      "\n",
      "The images in the training set have:\n",
      "• dtype: <dtype: 'uint8'>\n",
      "• shape: (670, 500, 3)\n",
      "\n",
      "The labels of the images have:\n",
      "• dtype: <dtype: 'int64'> \n",
      "\n",
      "\n"
     ]
    }
   ],
   "source": [
    "# TODO: Print the shape and corresponding label of 3 images in the training set.\n",
    "for image, label in training_set.take(3):\n",
    "    print('The images in the training set have:')\n",
    "    print('\\u2022 dtype:', image.dtype) \n",
    "    print('\\u2022 shape:', image.shape)\n",
    "  \n",
    "    print('\\nThe labels of the images have:')\n",
    "    print('\\u2022 dtype:', label.dtype,'\\n\\n') "
   ]
  },
  {
   "cell_type": "code",
   "execution_count": 8,
   "metadata": {
    "colab": {
     "base_uri": "https://localhost:8080/",
     "height": 280
    },
    "colab_type": "code",
    "id": "DQbnq8htRTnl",
    "outputId": "32a0e1af-2b04-440e-ddb4-835732be3e83"
   },
   "outputs": [
    {
     "data": {
      "image/png": "[encoded data removed]",
      "text/plain": [
       "<Figure size 432x288 with 2 Axes>"
      ]
     },
     "metadata": {
      "needs_background": "light"
     },
     "output_type": "display_data"
    },
    {
     "name": "stdout",
     "output_type": "stream",
     "text": [
      "The label of this image is: 72\n"
     ]
    }
   ],
   "source": [
    "# TODO: Plot 1 image from the training set. \n",
    "for image, label in training_set.take(1):\n",
    "    image = image.numpy().squeeze()\n",
    "    label = label.numpy()\n",
    "    \n",
    "# Plot the image\n",
    "plt.imshow(image, cmap = plt.cm.binary)\n",
    "plt.colorbar()\n",
    "plt.show()\n",
    "\n",
    "\n",
    "# Set the title of the plot to the corresponding image label. \n",
    "print('The label of this image is:', label)"
   ]
  },
  {
   "cell_type": "markdown",
   "metadata": {
    "colab_type": "text",
    "id": "zuh1841cs-j1"
   },
   "source": [
    "### Label Mapping\n",
    "\n",
    "You'll also need to load in a mapping from label to category name. You can find this in the file `label_map.json`. It's a JSON object which you can read in with the [`json` module](https://docs.python.org/3.7/library/json.html). This will give you a dictionary mapping the integer coded labels to the actual names of the flowers."
   ]
  },
  {
   "cell_type": "code",
   "execution_count": 9,
   "metadata": {
    "colab": {},
    "colab_type": "code",
    "id": "JoVzdO3KsdSk"
   },
   "outputs": [],
   "source": [
    "with open('label_map.json', 'r') as f:\n",
    "    class_names = json.load(f)"
   ]
  },
  {
   "cell_type": "code",
   "execution_count": 10,
   "metadata": {
    "colab": {
     "base_uri": "https://localhost:8080/",
     "height": 280
    },
    "colab_type": "code",
    "id": "fc6pMUZgEvUo",
    "outputId": "4274fd43-5cee-4523-885f-a18f6f277dd6"
   },
   "outputs": [
    {
     "data": {
      "image/png": "[encoded data removed]",
      "text/plain": [
       "<Figure size 432x288 with 2 Axes>"
      ]
     },
     "metadata": {
      "needs_background": "light"
     },
     "output_type": "display_data"
    },
    {
     "name": "stdout",
     "output_type": "stream",
     "text": [
      "The label of this image is: water lily\n"
     ]
    }
   ],
   "source": [
    "# TODO: Plot 1 image from the training set. Set the title \n",
    "# of the plot to the corresponding class name. \n",
    "for image, label in training_set.take(1):\n",
    "    image = image.numpy().squeeze()\n",
    "    label = label.numpy()\n",
    "    \n",
    "\n",
    "plt.imshow(image, cmap = plt.cm.binary)\n",
    "plt.colorbar()\n",
    "plt.show()\n",
    "\n",
    "print('The label of this image is:', format(class_names[str(label+1)]))  "
   ]
  },
  {
   "cell_type": "markdown",
   "metadata": {
    "colab_type": "text",
    "id": "0gL7AaqNf-NC"
   },
   "source": [
    "## Create Pipeline"
   ]
  },
  {
   "cell_type": "code",
   "execution_count": 11,
   "metadata": {
    "colab": {
     "base_uri": "https://localhost:8080/",
     "height": 88
    },
    "colab_type": "code",
    "id": "5hNznLbPNZxS",
    "outputId": "7c114910-b75f-4220-cda9-f84426ec2728"
   },
   "outputs": [],
   "source": [
    "# TODO: Create a pipeline for each set.\n",
    "training_batches = training_set.cache().shuffle(num_training_examples//4).batch(batch_size).map(normalize).prefetch(1)\n",
    "validation_batches = validation_set.cache().batch(batch_size).map(normalize).prefetch(1)\n",
    "testing_batches = test_set.cache().batch(batch_size).map(normalize).prefetch(1)\n"
   ]
  },
  {
   "cell_type": "markdown",
   "metadata": {
    "colab_type": "text",
    "id": "gR9gtRbeXPYx"
   },
   "source": [
    "# Build and Train the Classifier\n",
    "\n",
    "Now that the data is ready, it's time to build and train the classifier. You should use the MobileNet pre-trained model from TensorFlow Hub to get the image features. Build and train a new feed-forward classifier using those features.\n",
    "\n",
    "We're going to leave this part up to you. If you want to talk through it with someone, chat with your fellow students! \n",
    "\n",
    "Refer to the rubric for guidance on successfully completing this section. Things you'll need to do:\n",
    "\n",
    "* Load the MobileNet pre-trained network from TensorFlow Hub. Done\n",
    "* Define a new, untrained feed-forward network as a classifier.\n",
    "* Train the classifier.\n",
    "* Plot the loss and accuracy values achieved during training for the training and validation set.\n",
    "* Save your trained model as a Keras model. \n",
    "\n",
    "We've left a cell open for you below, but use as many as you need. Our advice is to break the problem up into smaller parts you can run separately. Check that each part is doing what you expect, then move on to the next. You'll likely find that as you work through each part, you'll need to go back and modify your previous code. This is totally normal!\n",
    "\n",
    "When training make sure you're updating only the weights of the feed-forward network. You should be able to get the validation accuracy above 70% if you build everything right.\n",
    "\n",
    "**Note for Workspace users:** One important tip if you're using the workspace to run your code: To avoid having your workspace disconnect during the long-running tasks in this notebook, please read in the earlier page in this lesson called Intro to GPU Workspaces about Keeping Your Session Active. You'll want to include code from the workspace_utils.py module. Also, If your model is over 1 GB when saved as a checkpoint, there might be issues with saving backups in your workspace. If your saved checkpoint is larger than 1 GB (you can open a terminal and check with `ls -lh`), you should reduce the size of your hidden layers and train again."
   ]
  },
  {
   "cell_type": "code",
   "execution_count": 12,
   "metadata": {
    "colab": {},
    "colab_type": "code",
    "id": "4zElEHViXLni"
   },
   "outputs": [],
   "source": [
    "# TODO: Build and train your network.\n",
    "batch_size = 32\n",
    "image_size = 224\n",
    "URL = \"https://tfhub.dev/google/tf2-preview/mobilenet_v2/feature_vector/4\"\n",
    "feature_extractor = hub.KerasLayer(URL, input_shape=(image_size, image_size,3))\n",
    "model = tf.keras.Sequential([\n",
    "        feature_extractor,\n",
    "        tf.keras.layers.Dense(2, activation = 'softmax')\n",
    "])\n",
    "\n",
    "feature_extractor.trainable = False\n",
    "\n"
   ]
  },
  {
   "cell_type": "code",
   "execution_count": 13,
   "metadata": {},
   "outputs": [
    {
     "name": "stdout",
     "output_type": "stream",
     "text": [
      "Model: \"sequential_1\"\n",
      "_________________________________________________________________\n",
      "Layer (type)                 Output Shape              Param #   \n",
      "=================================================================\n",
      "keras_layer (KerasLayer)     (None, 1280)              2257984   \n",
      "_________________________________________________________________\n",
      "dense_1 (Dense)              (None, 2)                 2562      \n",
      "=================================================================\n",
      "Total params: 2,260,546\n",
      "Trainable params: 2,562\n",
      "Non-trainable params: 2,257,984\n",
      "_________________________________________________________________\n"
     ]
    }
   ],
   "source": [
    "model = tf.keras.Sequential([\n",
    "        feature_extractor,\n",
    "        tf.keras.layers.Dense(2, activation = 'softmax')\n",
    "])\n",
    "\n",
    "model.summary()"
   ]
  },
  {
   "cell_type": "code",
   "execution_count": 15,
   "metadata": {},
   "outputs": [
    {
     "name": "stdout",
     "output_type": "stream",
     "text": [
      "WARNING:tensorflow:From <ipython-input-15-32e03adf40fd>:1: is_gpu_available (from tensorflow.python.framework.test_util) is deprecated and will be removed in a future version.\n",
      "Instructions for updating:\n",
      "Use `tf.config.list_physical_devices('GPU')` instead.\n"
     ]
    },
    {
     "name": "stderr",
     "output_type": "stream",
     "text": [
      "WARNING:tensorflow:From <ipython-input-15-32e03adf40fd>:1: is_gpu_available (from tensorflow.python.framework.test_util) is deprecated and will be removed in a future version.\n",
      "Instructions for updating:\n",
      "Use `tf.config.list_physical_devices('GPU')` instead.\n"
     ]
    },
    {
     "name": "stdout",
     "output_type": "stream",
     "text": [
      "Is there a GPU Available: False\n"
     ]
    }
   ],
   "source": [
    "print('Is there a GPU Available:', tf.test.is_gpu_available())"
   ]
  },
  {
   "cell_type": "code",
   "execution_count": null,
   "metadata": {},
   "outputs": [],
   "source": [
    "def plot_times(max_size = 650):\n",
    "    device_times = {'/GPU:0':[], '/CPU:0':[]}\n",
    "    matrix_sizes = range(450, max_size, 50)\n",
    "    len_matrix = len(matrix_sizes)\n",
    "\n",
    "    for i, size in enumerate(matrix_sizes):\n",
    "        for device_name in device_times.keys():\n",
    "            with tf.device(device_name):\n",
    "                m1 = tf.random.uniform(shape=(size,size), dtype=tf.float16)\n",
    "                m2 = tf.random.uniform(shape=(size,size), dtype=tf.float16)\n",
    "                start_time = time.time()\n",
    "                dot_operation = tf.matmul(m2, m1)\n",
    "                time_taken = time.time() - start_time\n",
    "                \n",
    "                if i > 0:\n",
    "                    device_times[device_name].append(time_taken)\n",
    "                    \n",
    "        percent_complete = (i + 1) / len_matrix\n",
    "        print('\\rPerforming Calculations. Please Wait... {:.0%} Complete'.format(percent_complete), end = '')\n",
    "    \n",
    "    matrix_sizes = matrix_sizes[1:]\n",
    "    \n",
    "    plt.figure(figsize=(10,7))\n",
    "    \n",
    "    plt.plot(matrix_sizes, device_times['/CPU:0'], 'o-', color='magenta', linewidth = 2, label = 'CPU')\n",
    "    plt.plot(matrix_sizes, device_times['/GPU:0'], 'o-', color='cyan', linewidth = 2, label='GPU')\n",
    "    ax = plt.gca()\n",
    "    ax.set_facecolor('black')\n",
    "    plt.grid()\n",
    "    plt.ylabel('Time (s)', color='white', fontsize = 20)\n",
    "    plt.xlabel('Matrix size',  color='white', fontsize = 20)\n",
    "    plt.legend(prop={'size': 15})\n",
    "    plt.show()\n",
    "    \n",
    "plot_times(850)"
   ]
  },
  {
   "cell_type": "code",
   "execution_count": null,
   "metadata": {},
   "outputs": [],
   "source": [
    "model.compile(optimizer='adam',\n",
    "              loss='sparse_categorical_crossentropy',\n",
    "              metrics=['accuracy'])"
   ]
  },
  {
   "cell_type": "code",
   "execution_count": null,
   "metadata": {},
   "outputs": [],
   "source": [
    "image_gen_val = ImageDataGenerator(rescale=1./255)\n",
    "\n",
    "val_data_gen = image_gen_val.flow_from_directory(directory=validation_dir,\n",
    "                                                 batch_size=BATCH_SIZE,\n",
    "                                                 target_size=(IMG_SHAPE, IMG_SHAPE),\n",
    "                                                 class_mode='binary')\n",
    "\n",
    "image_gen_train = ImageDataGenerator(rescale=1./255,\n",
    "                               horizontal_flip=True,\n",
    "                               rotation_range=45,\n",
    "                               zoom_range=0.5)\n",
    "\n",
    "train_data_gen = image_gen.flow_from_directory(directory=train_dir,\n",
    "                                               batch_size=BATCH_SIZE, \n",
    "                                               shuffle=True, \n",
    "                                               target_size=(IMG_SHAPE, IMG_SHAPE),\n",
    "                                               class_mode='binary')"
   ]
  },
  {
   "cell_type": "code",
   "execution_count": null,
   "metadata": {},
   "outputs": [],
   "source": [
    "EPOCHS = 10\n",
    "\n",
    "history = model.fit_generator(train_data_gen,\n",
    "                              epochs=EPOCHS,\n",
    "                              validation_data=val_data_gen)"
   ]
  },
  {
   "cell_type": "code",
   "execution_count": 14,
   "metadata": {
    "colab": {
     "base_uri": "https://localhost:8080/",
     "height": 498
    },
    "colab_type": "code",
    "id": "VU6sWzx4e7Yb",
    "outputId": "f7b5c7c5-683a-463c-9228-68c4918bdd5b"
   },
   "outputs": [
    {
     "ename": "InvalidArgumentError",
     "evalue": "Cannot batch tensors with different shapes in component 0. First element had shape [545,500,3] and element 1 had shape [500,506,3]. [Op:IteratorGetNext]",
     "output_type": "error",
     "traceback": [
      "\u001b[0;31m---------------------------------------------------------------------------\u001b[0m",
      "\u001b[0;31mInvalidArgumentError\u001b[0m                      Traceback (most recent call last)",
      "\u001b[0;32m<ipython-input-14-435d5628317a>\u001b[0m in \u001b[0;36m<module>\u001b[0;34m\u001b[0m\n\u001b[1;32m      1\u001b[0m \u001b[0;31m# TODO: Plot the loss and accuracy values achieved during training for the training and validation set.\u001b[0m\u001b[0;34m\u001b[0m\u001b[0;34m\u001b[0m\u001b[0;34m\u001b[0m\u001b[0m\n\u001b[1;32m      2\u001b[0m \u001b[0;34m\u001b[0m\u001b[0m\n\u001b[0;32m----> 3\u001b[0;31m \u001b[0;32mfor\u001b[0m \u001b[0mimage_batch\u001b[0m\u001b[0;34m,\u001b[0m \u001b[0mlabel_batch\u001b[0m \u001b[0;32min\u001b[0m \u001b[0mtraining_batches\u001b[0m\u001b[0;34m.\u001b[0m\u001b[0mtake\u001b[0m\u001b[0;34m(\u001b[0m\u001b[0;36m1\u001b[0m\u001b[0;34m)\u001b[0m\u001b[0;34m:\u001b[0m\u001b[0;34m\u001b[0m\u001b[0;34m\u001b[0m\u001b[0m\n\u001b[0m\u001b[1;32m      4\u001b[0m     \u001b[0mloss\u001b[0m\u001b[0;34m,\u001b[0m \u001b[0maccuracy\u001b[0m \u001b[0;34m=\u001b[0m \u001b[0mmodel\u001b[0m\u001b[0;34m.\u001b[0m\u001b[0mevaluate\u001b[0m\u001b[0;34m(\u001b[0m\u001b[0mimage_batch\u001b[0m\u001b[0;34m,\u001b[0m \u001b[0mlabel_batch\u001b[0m\u001b[0;34m)\u001b[0m\u001b[0;34m\u001b[0m\u001b[0;34m\u001b[0m\u001b[0m\n\u001b[1;32m      5\u001b[0m \u001b[0;34m\u001b[0m\u001b[0m\n",
      "\u001b[0;32m~/.local/lib/python3.7/site-packages/tensorflow/python/data/ops/iterator_ops.py\u001b[0m in \u001b[0;36m__next__\u001b[0;34m(self)\u001b[0m\n\u001b[1;32m    759\u001b[0m   \u001b[0;32mdef\u001b[0m \u001b[0m__next__\u001b[0m\u001b[0;34m(\u001b[0m\u001b[0mself\u001b[0m\u001b[0;34m)\u001b[0m\u001b[0;34m:\u001b[0m\u001b[0;34m\u001b[0m\u001b[0;34m\u001b[0m\u001b[0m\n\u001b[1;32m    760\u001b[0m     \u001b[0;32mtry\u001b[0m\u001b[0;34m:\u001b[0m\u001b[0;34m\u001b[0m\u001b[0;34m\u001b[0m\u001b[0m\n\u001b[0;32m--> 761\u001b[0;31m       \u001b[0;32mreturn\u001b[0m \u001b[0mself\u001b[0m\u001b[0;34m.\u001b[0m\u001b[0m_next_internal\u001b[0m\u001b[0;34m(\u001b[0m\u001b[0;34m)\u001b[0m\u001b[0;34m\u001b[0m\u001b[0;34m\u001b[0m\u001b[0m\n\u001b[0m\u001b[1;32m    762\u001b[0m     \u001b[0;32mexcept\u001b[0m \u001b[0merrors\u001b[0m\u001b[0;34m.\u001b[0m\u001b[0mOutOfRangeError\u001b[0m\u001b[0;34m:\u001b[0m\u001b[0;34m\u001b[0m\u001b[0;34m\u001b[0m\u001b[0m\n\u001b[1;32m    763\u001b[0m       \u001b[0;32mraise\u001b[0m \u001b[0mStopIteration\u001b[0m\u001b[0;34m\u001b[0m\u001b[0;34m\u001b[0m\u001b[0m\n",
      "\u001b[0;32m~/.local/lib/python3.7/site-packages/tensorflow/python/data/ops/iterator_ops.py\u001b[0m in \u001b[0;36m_next_internal\u001b[0;34m(self)\u001b[0m\n\u001b[1;32m    745\u001b[0m           \u001b[0mself\u001b[0m\u001b[0;34m.\u001b[0m\u001b[0m_iterator_resource\u001b[0m\u001b[0;34m,\u001b[0m\u001b[0;34m\u001b[0m\u001b[0;34m\u001b[0m\u001b[0m\n\u001b[1;32m    746\u001b[0m           \u001b[0moutput_types\u001b[0m\u001b[0;34m=\u001b[0m\u001b[0mself\u001b[0m\u001b[0;34m.\u001b[0m\u001b[0m_flat_output_types\u001b[0m\u001b[0;34m,\u001b[0m\u001b[0;34m\u001b[0m\u001b[0;34m\u001b[0m\u001b[0m\n\u001b[0;32m--> 747\u001b[0;31m           output_shapes=self._flat_output_shapes)\n\u001b[0m\u001b[1;32m    748\u001b[0m \u001b[0;34m\u001b[0m\u001b[0m\n\u001b[1;32m    749\u001b[0m       \u001b[0;32mtry\u001b[0m\u001b[0;34m:\u001b[0m\u001b[0;34m\u001b[0m\u001b[0;34m\u001b[0m\u001b[0m\n",
      "\u001b[0;32m~/.local/lib/python3.7/site-packages/tensorflow/python/ops/gen_dataset_ops.py\u001b[0m in \u001b[0;36miterator_get_next\u001b[0;34m(iterator, output_types, output_shapes, name)\u001b[0m\n\u001b[1;32m   2726\u001b[0m       \u001b[0;32mreturn\u001b[0m \u001b[0m_result\u001b[0m\u001b[0;34m\u001b[0m\u001b[0;34m\u001b[0m\u001b[0m\n\u001b[1;32m   2727\u001b[0m     \u001b[0;32mexcept\u001b[0m \u001b[0m_core\u001b[0m\u001b[0;34m.\u001b[0m\u001b[0m_NotOkStatusException\u001b[0m \u001b[0;32mas\u001b[0m \u001b[0me\u001b[0m\u001b[0;34m:\u001b[0m\u001b[0;34m\u001b[0m\u001b[0;34m\u001b[0m\u001b[0m\n\u001b[0;32m-> 2728\u001b[0;31m       \u001b[0m_ops\u001b[0m\u001b[0;34m.\u001b[0m\u001b[0mraise_from_not_ok_status\u001b[0m\u001b[0;34m(\u001b[0m\u001b[0me\u001b[0m\u001b[0;34m,\u001b[0m \u001b[0mname\u001b[0m\u001b[0;34m)\u001b[0m\u001b[0;34m\u001b[0m\u001b[0;34m\u001b[0m\u001b[0m\n\u001b[0m\u001b[1;32m   2729\u001b[0m     \u001b[0;32mexcept\u001b[0m \u001b[0m_core\u001b[0m\u001b[0;34m.\u001b[0m\u001b[0m_FallbackException\u001b[0m\u001b[0;34m:\u001b[0m\u001b[0;34m\u001b[0m\u001b[0;34m\u001b[0m\u001b[0m\n\u001b[1;32m   2730\u001b[0m       \u001b[0;32mpass\u001b[0m\u001b[0;34m\u001b[0m\u001b[0;34m\u001b[0m\u001b[0m\n",
      "\u001b[0;32m~/.local/lib/python3.7/site-packages/tensorflow/python/framework/ops.py\u001b[0m in \u001b[0;36mraise_from_not_ok_status\u001b[0;34m(e, name)\u001b[0m\n\u001b[1;32m   6895\u001b[0m   \u001b[0mmessage\u001b[0m \u001b[0;34m=\u001b[0m \u001b[0me\u001b[0m\u001b[0;34m.\u001b[0m\u001b[0mmessage\u001b[0m \u001b[0;34m+\u001b[0m \u001b[0;34m(\u001b[0m\u001b[0;34m\" name: \"\u001b[0m \u001b[0;34m+\u001b[0m \u001b[0mname\u001b[0m \u001b[0;32mif\u001b[0m \u001b[0mname\u001b[0m \u001b[0;32mis\u001b[0m \u001b[0;32mnot\u001b[0m \u001b[0;32mNone\u001b[0m \u001b[0;32melse\u001b[0m \u001b[0;34m\"\"\u001b[0m\u001b[0;34m)\u001b[0m\u001b[0;34m\u001b[0m\u001b[0;34m\u001b[0m\u001b[0m\n\u001b[1;32m   6896\u001b[0m   \u001b[0;31m# pylint: disable=protected-access\u001b[0m\u001b[0;34m\u001b[0m\u001b[0;34m\u001b[0m\u001b[0;34m\u001b[0m\u001b[0m\n\u001b[0;32m-> 6897\u001b[0;31m   \u001b[0msix\u001b[0m\u001b[0;34m.\u001b[0m\u001b[0mraise_from\u001b[0m\u001b[0;34m(\u001b[0m\u001b[0mcore\u001b[0m\u001b[0;34m.\u001b[0m\u001b[0m_status_to_exception\u001b[0m\u001b[0;34m(\u001b[0m\u001b[0me\u001b[0m\u001b[0;34m.\u001b[0m\u001b[0mcode\u001b[0m\u001b[0;34m,\u001b[0m \u001b[0mmessage\u001b[0m\u001b[0;34m)\u001b[0m\u001b[0;34m,\u001b[0m \u001b[0;32mNone\u001b[0m\u001b[0;34m)\u001b[0m\u001b[0;34m\u001b[0m\u001b[0;34m\u001b[0m\u001b[0m\n\u001b[0m\u001b[1;32m   6898\u001b[0m   \u001b[0;31m# pylint: enable=protected-access\u001b[0m\u001b[0;34m\u001b[0m\u001b[0;34m\u001b[0m\u001b[0;34m\u001b[0m\u001b[0m\n\u001b[1;32m   6899\u001b[0m \u001b[0;34m\u001b[0m\u001b[0m\n",
      "\u001b[0;32m~/.local/lib/python3.7/site-packages/six.py\u001b[0m in \u001b[0;36mraise_from\u001b[0;34m(value, from_value)\u001b[0m\n",
      "\u001b[0;31mInvalidArgumentError\u001b[0m: Cannot batch tensors with different shapes in component 0. First element had shape [545,500,3] and element 1 had shape [500,506,3]. [Op:IteratorGetNext]"
     ]
    }
   ],
   "source": [
    "# TODO: Plot the loss and accuracy values achieved during training for the training and validation set.\n",
    "\n",
    "# Check that history.history is a dictionary\n",
    "print('history.history has type:', type(history.history))\n",
    "\n",
    "# Print the keys of the history.history dictionary\n",
    "print('\\nThe keys of history.history are:', list(history.history.keys()))"
   ]
  },
  {
   "cell_type": "code",
   "execution_count": null,
   "metadata": {},
   "outputs": [],
   "source": [
    "training_accuracy = history.history['accuracy']\n",
    "validation_accuracy = history.history['val_accuracy']\n",
    "\n",
    "training_loss = history.history['loss']\n",
    "validation_loss = history.history['val_loss']\n",
    "\n",
    "epochs_range=range(EPOCHS)\n",
    "\n",
    "plt.figure(figsize=(8, 8))\n",
    "plt.subplot(1, 2, 1)\n",
    "plt.plot(epochs_range, training_accuracy, label='Training Accuracy')\n",
    "plt.plot(epochs_range, validation_accuracy, label='Validation Accuracy')\n",
    "plt.legend(loc='lower right')\n",
    "plt.title('Training and Validation Accuracy')\n",
    "\n",
    "plt.subplot(1, 2, 2)\n",
    "plt.plot(epochs_range, training_loss, label='Training Loss')\n",
    "plt.plot(epochs_range, validation_loss, label='Validation Loss')\n",
    "plt.legend(loc='upper right')\n",
    "plt.title('Training and Validation Loss')\n",
    "plt.show()"
   ]
  },
  {
   "cell_type": "markdown",
   "metadata": {
    "colab_type": "text",
    "id": "qcTDnyvop3ky"
   },
   "source": [
    "## Testing your Network\n",
    "\n",
    "It's good practice to test your trained network on test data, images the network has never seen either in training or validation. This will give you a good estimate for the model's performance on completely new images. You should be able to reach around 70% accuracy on the test set if the model has been trained well."
   ]
  },
  {
   "cell_type": "code",
   "execution_count": null,
   "metadata": {
    "colab": {
     "base_uri": "https://localhost:8080/",
     "height": 85
    },
    "colab_type": "code",
    "id": "79l7-HM1cafO",
    "outputId": "6cf468a4-1e27-4f20-d63a-a8bdd78bcdbe"
   },
   "outputs": [],
   "source": [
    "# TODO: Print the loss and accuracy values achieved on the entire test set.\n",
    "\n",
    "training_accuracy = history.history['accuracy']\n",
    "validation_accuracy = history.history['val_accuracy'] #change test\n",
    "\n",
    "training_loss = history.history['loss']\n",
    "validation_loss = history.history['val_loss'] #change test\n",
    "\n",
    "epochs_range=range(EPOCHS)\n",
    "\n",
    "plt.figure(figsize=(8, 8))\n",
    "plt.subplot(1, 2, 1)\n",
    "plt.plot(epochs_range, training_accuracy, label='Training Accuracy')\n",
    "plt.plot(epochs_range, validation_accuracy, label='Validation Accuracy') #change test\n",
    "plt.legend(loc='lower right')\n",
    "plt.title('Training and Validation Accuracy') #change test\n",
    "\n",
    "plt.subplot(1, 2, 2)\n",
    "plt.plot(epochs_range, training_loss, label='Training Loss')\n",
    "plt.plot(epochs_range, validation_loss, label='Validation Loss') #change test\n",
    "plt.legend(loc='upper right')\n",
    "plt.title('Training and Validation Loss') #change test\n",
    "plt.show()"
   ]
  },
  {
   "cell_type": "markdown",
   "metadata": {
    "colab_type": "text",
    "id": "pLsIDWnuqfkl"
   },
   "source": [
    "## Save the Model\n",
    "\n",
    "Now that your network is trained, save the model so you can load it later for making inference. In the cell below save your model as a Keras model (*i.e.* save it as an HDF5 file)."
   ]
  },
  {
   "cell_type": "code",
   "execution_count": null,
   "metadata": {
    "colab": {},
    "colab_type": "code",
    "id": "7XOwdOjSptp-"
   },
   "outputs": [],
   "source": [
    "# TODO: Save your trained model as a Keras model.\n",
    "\n",
    "t = time.time()\n",
    "\n",
    "saved_keras_model_filepath = './{}.h5'.format(int(t))\n",
    "\n",
    "model.save(saved_keras_model_filepath)"
   ]
  },
  {
   "cell_type": "markdown",
   "metadata": {
    "colab_type": "text",
    "id": "rbeLSRC1rxuj"
   },
   "source": [
    "## Load the Keras Model\n",
    "\n",
    "Load the Keras model you saved above."
   ]
  },
  {
   "cell_type": "code",
   "execution_count": null,
   "metadata": {
    "colab": {
     "base_uri": "https://localhost:8080/",
     "height": 394
    },
    "colab_type": "code",
    "id": "3T6Dgc7Nrzds",
    "outputId": "f5d356dc-183f-4cd3-f15d-88ebb4966082"
   },
   "outputs": [],
   "source": [
    "# TODO: Load the Keras model\n",
    "\n",
    "reloaded_keras_model = tf.keras.models.load_model(saved_keras_model_filepath)\n",
    "\n",
    "reloaded_keras_model.summary()"
   ]
  },
  {
   "cell_type": "markdown",
   "metadata": {
    "colab_type": "text",
    "id": "ZjucwuFrsyhJ"
   },
   "source": [
    "# Inference for Classification\n",
    "\n",
    "Now you'll write a function that uses your trained network for inference. Write a function called `predict` that takes an image, a model, and then returns the top $K$ most likely class labels along with the probabilities. The function call should look like: \n",
    "\n",
    "```python\n",
    "probs, classes = predict(image_path, model, top_k)\n",
    "```\n",
    "\n",
    "If `top_k=5` the output of the `predict` function should be something like this:\n",
    "\n",
    "```python\n",
    "probs, classes = predict(image_path, model, 5)\n",
    "print(probs)\n",
    "print(classes)\n",
    "> [ 0.01558163  0.01541934  0.01452626  0.01443549  0.01407339]\n",
    "> ['70', '3', '45', '62', '55']\n",
    "```\n",
    "\n",
    "Your `predict` function should use `PIL` to load the image from the given `image_path`. You can use the [Image.open](https://pillow.readthedocs.io/en/latest/reference/Image.html#PIL.Image.open) function to load the images. The `Image.open()` function returns an `Image` object. You can convert this `Image` object to a NumPy array by using the `np.asarray()` function.\n",
    "\n",
    "The `predict` function will also need to handle pre-processing the input image such that it can be used by your model. We recommend you write a separate function called `process_image` that performs the pre-processing. You can then call the `process_image` function from the `predict` function. \n",
    "\n",
    "### Image Pre-processing\n",
    "\n",
    "The `process_image` function should take in an image (in the form of a NumPy array) and return an image in the form of a NumPy array with shape `(224, 224, 3)`.\n",
    "\n",
    "First, you should convert your image into a TensorFlow Tensor and then resize it to the appropriate size using `tf.image.resize`.\n",
    "\n",
    "Second, the pixel values of the input images are typically encoded as integers in the range 0-255, but the model expects the pixel values to be floats in the range 0-1. Therefore, you'll also need to normalize the pixel values. \n",
    "\n",
    "Finally, convert your image back to a NumPy array using the `.numpy()` method."
   ]
  },
  {
   "cell_type": "code",
   "execution_count": null,
   "metadata": {
    "colab": {},
    "colab_type": "code",
    "id": "oG7mJ1-5s1qe"
   },
   "outputs": [],
   "source": [
    "# TODO: Create the process_image function\n",
    "BATCH_SIZE = 64\n",
    "IMG_SHAPE  = 224\n",
    "\n",
    "def process_image(test_image):\n",
    "    image_gen = ImageDataGenerator(rescale=1./255, horizontal_flip=True, rotation_range=45, zoom_range=0.5)\n",
    "\n",
    "    train_data_gen = image_gen.flow_from_directory(directory=train_dir,\n",
    "                                               batch_size=BATCH_SIZE,\n",
    "                                               shuffle=True, \n",
    "                                               target_size=(IMG_SHAPE,IMG_SHAPE),\n",
    "                                               class_mode='binary')\n",
    "    return train_data_gen"
   ]
  },
  {
   "cell_type": "markdown",
   "metadata": {},
   "source": [
    "To check your `process_image` function we have provided 4 images in the `./test_images/` folder:\n",
    "\n",
    "* cautleya_spicata.jpg\n",
    "* hard-leaved_pocket_orchid.jpg\n",
    "* orange_dahlia.jpg\n",
    "* wild_pansy.jpg\n",
    "\n",
    "The code below loads one of the above images using `PIL` and plots the original image alongside the image produced by your `process_image` function. If your `process_image` function works, the plotted image should be the correct size. "
   ]
  },
  {
   "cell_type": "code",
   "execution_count": null,
   "metadata": {},
   "outputs": [],
   "source": [
    "from PIL import Image\n",
    "\n",
    "image_path = './test_images/hard-leaved_pocket_orchid.jpg'\n",
    "im = Image.open(image_path)\n",
    "test_image = np.asarray(im)\n",
    "\n",
    "processed_test_image = process_image(test_image)\n",
    "\n",
    "fig, (ax1, ax2) = plt.subplots(figsize=(10,10), ncols=2)\n",
    "ax1.imshow(test_image)\n",
    "ax1.set_title('Original Image')\n",
    "ax2.imshow(processed_test_image)\n",
    "ax2.set_title('Processed Image')\n",
    "plt.tight_layout()\n",
    "plt.show()"
   ]
  },
  {
   "cell_type": "markdown",
   "metadata": {},
   "source": [
    "Once you can get images in the correct format, it's time to write the `predict` function for making inference with your model.\n",
    "\n",
    "### Inference\n",
    "\n",
    "Remember, the `predict` function should take an image, a model, and then returns the top $K$ most likely class labels along with the probabilities. The function call should look like: \n",
    "\n",
    "```python\n",
    "probs, classes = predict(image_path, model, top_k)\n",
    "```\n",
    "\n",
    "If `top_k=5` the output of the `predict` function should be something like this:\n",
    "\n",
    "```python\n",
    "probs, classes = predict(image_path, model, 5)\n",
    "print(probs)\n",
    "print(classes)\n",
    "> [ 0.01558163  0.01541934  0.01452626  0.01443549  0.01407339]\n",
    "> ['70', '3', '45', '62', '55']\n",
    "```\n",
    "\n",
    "Your `predict` function should use `PIL` to load the image from the given `image_path`. You can use the [Image.open](https://pillow.readthedocs.io/en/latest/reference/Image.html#PIL.Image.open) function to load the images. The `Image.open()` function returns an `Image` object. You can convert this `Image` object to a NumPy array by using the `np.asarray()` function.\n",
    "\n",
    "**Note:** The image returned by the `process_image` function is a NumPy array with shape `(224, 224, 3)` but the model expects the input images to be of shape `(1, 224, 224, 3)`. This extra dimension represents the batch size. We suggest you use the `np.expand_dims()` function to add the extra dimension. "
   ]
  },
  {
   "cell_type": "code",
   "execution_count": null,
   "metadata": {
    "colab": {},
    "colab_type": "code",
    "id": "SBnPKFJuGB32"
   },
   "outputs": [],
   "source": [
    "# TODO: Create the predict function\n",
    "\n",
    "for image_batch, label_batch in testing_batches.take(1):\n",
    "    ps = model.predict(image_batch)\n",
    "    images = image_batch.numpy().squeeze()\n",
    "    labels = label_batch.numpy()\n",
    "\n",
    "\n",
    "plt.figure(figsize=(10,15))\n",
    "\n",
    "for n in range(30):\n",
    "    plt.subplot(6,5,n+1)\n",
    "    plt.imshow(images[n], cmap = plt.cm.binary)\n",
    "    color = 'green' if np.argmax(ps[n]) == labels[n] else 'red'\n",
    "    plt.title(class_names[np.argmax(ps[n])], color=color)\n",
    "    plt.axis('off')"
   ]
  },
  {
   "cell_type": "markdown",
   "metadata": {
    "colab_type": "text",
    "id": "aft8f_n5C7Co"
   },
   "source": [
    "# Sanity Check\n",
    "\n",
    "It's always good to check the predictions made by your model to make sure they are correct. To check your predictions we have provided 4 images in the `./test_images/` folder:\n",
    "\n",
    "* cautleya_spicata.jpg\n",
    "* hard-leaved_pocket_orchid.jpg\n",
    "* orange_dahlia.jpg\n",
    "* wild_pansy.jpg\n",
    "\n",
    "In the cell below use `matplotlib` to plot the input image alongside the probabilities for the top 5 classes predicted by your model. Plot the probabilities as a bar graph. The plot should look like this:\n",
    "\n",
    "<img src='assets/inference_example.png' width=600px>\n",
    "\n",
    "You can convert from the class integer labels to actual flower names using `class_names`. "
   ]
  },
  {
   "cell_type": "code",
   "execution_count": null,
   "metadata": {
    "colab": {
     "base_uri": "https://localhost:8080/",
     "height": 336
    },
    "colab_type": "code",
    "id": "I_tBH8xGGVxQ",
    "outputId": "ef0fe795-65f3-49c5-fab0-086fac7d409d"
   },
   "outputs": [],
   "source": [
    "# TODO: Plot the input image along with the top 5 classes\n",
    "for image_batch, label_batch in testing_batches.take(1):\n",
    "    ps = my_model.predict(image_batch)\n",
    "    first_image = image_batch.numpy().squeeze()[0]\n",
    "    first_label = label_batch.numpy()[0]\n",
    "\n",
    "fig, (ax1, ax2) = plt.subplots(figsize=(6,9), ncols=2)\n",
    "ax1.imshow(first_image, cmap = plt.cm.binary)\n",
    "ax1.axis('off')\n",
    "ax1.set_title(class_names[first_label])\n",
    "ax2.barh(np.arange(10), ps[0])\n",
    "ax2.set_aspect(0.1)\n",
    "ax2.set_yticks(np.arange(10))\n",
    "ax2.set_yticklabels(class_names, size='small');\n",
    "ax2.set_title('Class Probability')\n",
    "ax2.set_xlim(0, 1.1)\n",
    "plt.tight_layout()"
   ]
  }
 ],
 "metadata": {
  "accelerator": "GPU",
  "colab": {
   "collapsed_sections": [],
   "name": "Project - Image Classifier Project.ipynb",
   "provenance": []
  },
  "kernelspec": {
   "display_name": "Python 3",
   "language": "python",
   "name": "python3"
  },
  "language_info": {
   "codemirror_mode": {
    "name": "ipython",
    "version": 3
   },
   "file_extension": ".py",
   "mimetype": "text/x-python",
   "name": "python",
   "nbconvert_exporter": "python",
   "pygments_lexer": "ipython3",
   "version": "3.7.4"
  }
 },
 "nbformat": 4,
 "nbformat_minor": 1
}
